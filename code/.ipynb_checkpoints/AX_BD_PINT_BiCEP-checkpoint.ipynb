{
 "cells": [
  {
   "cell_type": "markdown",
   "id": "1bfef945-895c-467a-a816-029901ad0e75",
   "metadata": {},
   "source": [
    "# This notebook includes paleointensity result analyses using the Bias Corrected Estimation of Paleointensity (BiCEP) method\n",
    "\n"
   ]
  },
  {
   "cell_type": "code",
   "execution_count": 24,
   "id": "f017f5dd-0cfb-437c-a0e5-426561f71f50",
   "metadata": {
    "ExecuteTime": {
     "end_time": "2021-06-10T18:45:25.948008Z",
     "start_time": "2021-06-10T18:45:25.281746Z"
    }
   },
   "outputs": [],
   "source": [
    "import pandas as pd\n",
    "import matplotlib.pyplot as plt\n",
    "import pickle\n",
    "%matplotlib inline\n",
    "from IPython.display import Image"
   ]
  },
  {
   "cell_type": "code",
   "execution_count": 4,
   "id": "4d8daf0f-531d-4937-8b91-c6378e6ff0fe",
   "metadata": {
    "ExecuteTime": {
     "end_time": "2021-06-10T18:45:28.361325Z",
     "start_time": "2021-06-10T18:45:26.352622Z"
    }
   },
   "outputs": [],
   "source": [
    "import sys\n",
    "sys.path.append('modules_and_scripts/') \n",
    "#The BiCEP_functions library imports all other needed libraries\n",
    "import BiCEP_functions as BiCEP"
   ]
  },
  {
   "cell_type": "code",
   "execution_count": null,
   "id": "24bca18f-275e-44a6-861b-ff45678233ed",
   "metadata": {},
   "outputs": [],
   "source": []
  },
  {
   "cell_type": "code",
   "execution_count": null,
   "id": "9add879c-76b8-40f9-b972-a496a1754815",
   "metadata": {},
   "outputs": [],
   "source": []
  },
  {
   "cell_type": "code",
   "execution_count": null,
   "id": "1f721e26-8d14-4228-9498-d255d52efa24",
   "metadata": {},
   "outputs": [],
   "source": []
  },
  {
   "cell_type": "code",
   "execution_count": null,
   "id": "9c9ed5cb-4d06-47c3-8a25-16d7f4d21101",
   "metadata": {},
   "outputs": [],
   "source": []
  },
  {
   "cell_type": "code",
   "execution_count": null,
   "id": "fcb885c4-e565-4d29-82ba-b9a804249f79",
   "metadata": {},
   "outputs": [],
   "source": []
  }
 ],
 "metadata": {
  "kernelspec": {
   "display_name": "Python 3",
   "language": "python",
   "name": "python3"
  },
  "language_info": {
   "codemirror_mode": {
    "name": "ipython",
    "version": 3
   },
   "file_extension": ".py",
   "mimetype": "text/x-python",
   "name": "python",
   "nbconvert_exporter": "python",
   "pygments_lexer": "ipython3",
   "version": "3.7.6"
  }
 },
 "nbformat": 4,
 "nbformat_minor": 5
}
