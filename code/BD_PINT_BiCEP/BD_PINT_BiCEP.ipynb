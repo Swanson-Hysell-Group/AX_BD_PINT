{
 "cells": [
  {
   "cell_type": "markdown",
   "id": "1bfef945-895c-467a-a816-029901ad0e75",
   "metadata": {},
   "source": [
    "# This notebook includes paleointensity result analyses using the Bias Corrected Estimation of Paleointensity (BiCEP) method\n",
    "\n"
   ]
  },
  {
   "cell_type": "code",
   "execution_count": 37,
   "id": "f017f5dd-0cfb-437c-a0e5-426561f71f50",
   "metadata": {
    "ExecuteTime": {
     "end_time": "2021-06-10T18:45:25.948008Z",
     "start_time": "2021-06-10T18:45:25.281746Z"
    }
   },
   "outputs": [],
   "source": [
    "import pandas as pd\n",
    "import matplotlib.pyplot as plt\n",
    "import pickle\n",
    "from IPython.display import display\n",
    "%matplotlib inline\n",
    "%config InlineBackend.figure_format = 'retina'"
   ]
  },
  {
   "cell_type": "code",
   "execution_count": 29,
   "id": "4d8daf0f-531d-4937-8b91-c6378e6ff0fe",
   "metadata": {
    "ExecuteTime": {
     "end_time": "2021-06-10T18:45:28.361325Z",
     "start_time": "2021-06-10T18:45:26.352622Z"
    }
   },
   "outputs": [],
   "source": [
    "import sys\n",
    "sys.path.append('../BiCEP_modules_and_scripts/') \n",
    "#The BiCEP_functions library imports all other needed libraries\n",
    "import BiCEP_functions as BiCEP"
   ]
  },
  {
   "cell_type": "markdown",
   "id": "8d2dd7ef-3188-40eb-a788-7a8b79507b03",
   "metadata": {},
   "source": [
    "## Generate Arai plot table for AX PINT results"
   ]
  },
  {
   "cell_type": "code",
   "execution_count": 4,
   "id": "77bbfde0-07a8-4a48-8328-38abb6144dc5",
   "metadata": {
    "ExecuteTime": {
     "end_time": "2021-06-10T18:45:41.895385Z",
     "start_time": "2021-06-10T18:45:29.995245Z"
    }
   },
   "outputs": [
    {
     "name": "stdout",
     "output_type": "stream",
     "text": [
      "-I- Using online data model\n",
      "-I- Getting method codes from earthref.org\n",
      "-I- Importing controlled vocabularies from https://earthref.org\n",
      "Working on: BD1-11b\n",
      "Working on: BD1-12b\n",
      "Working on: BD1-13b\n",
      "Working on: BD1-4b\n",
      "Working on: BD1-5b\n",
      "Working on: BD1-6b\n",
      "Working on: BD1-7b\n",
      "Working on: BD2-10a\n",
      "Working on: BD2-11a\n",
      "Working on: BD2-12a\n",
      "Working on: BD2-13a\n",
      "Working on: BD2-14a\n",
      "Working on: BD2-15a\n",
      "Working on: BD2-16a\n",
      "Working on: BD2-18a\n",
      "Working on: BD2-5b\n",
      "Working on: BD2-6b\n",
      "Working on: BD2-7b\n",
      "Working on: BD2-8b\n",
      "Working on: BD2-9a\n",
      "Working on: BD5-5b\n",
      "Working on: BD5-6b\n",
      "Working on: BD5-7b\n",
      "Working on: BD5-8b\n",
      "Working on: BD6-5b\n",
      "Working on: BD6-6b\n",
      "Working on: BD6-7b\n",
      "Working on: BD6-8b\n",
      "Working on: BD6-9b\n",
      "Working on: BD7-5b\n",
      "Working on: BD7-6b\n",
      "Working on: BD7-7b\n",
      "Working on: BD8-1b\n",
      "Working on: BD8-2b\n",
      "Working on: BD8-4b\n",
      "Working on: BD8-5b\n",
      "Working on: BD8-6b\n",
      "Working on: BD8-7b\n",
      "Working on: BD8-9b\n",
      "Working on: BD9-1b\n",
      "Working on: BD9-2b\n",
      "Working on: BD9-4b\n",
      "Working on: BD9-5b\n",
      "Working on: BD9-6b\n",
      "Working on: BD9-7b\n",
      "Working on: BD9-8b\n",
      "Working on: BD1-10b\n",
      "Working on: BD1-14b\n",
      "Working on: BD1-15b\n",
      "Working on: BD1-1b\n",
      "Working on: BD1-2b\n",
      "Working on: BD1-3b\n",
      "Working on: BD1-8b\n",
      "Working on: BD1-9b\n",
      "Working on: BD2-1b\n",
      "Working on: BD2-2b\n",
      "Working on: BD2-3b\n",
      "Working on: BD2-4b\n",
      "Working on: BD5-1b\n",
      "Working on: BD5-2b\n",
      "Working on: BD5-3b\n",
      "Working on: BD5-4b\n",
      "Working on: BD6-1b\n",
      "Working on: BD6-2b\n",
      "Working on: BD6-3b\n",
      "Working on: BD6-4b\n",
      "Working on: BD7-2b\n",
      "Working on: BD7-3b\n",
      "Working on: BD7-4b\n",
      "Couldn't find Anisotropy Tensors, Generating...\n",
      "-E- No measurement records found with code LP-AN-TRM\n",
      "-E- No measurement records found with code LP-AN-ARM\n"
     ]
    }
   ],
   "source": [
    "BiCEP.generate_arai_plot_table('BD_all')"
   ]
  },
  {
   "cell_type": "code",
   "execution_count": 5,
   "id": "00dbe76c-3b89-44b2-9564-4375831eb91c",
   "metadata": {
    "ExecuteTime": {
     "end_time": "2021-06-10T18:49:29.553630Z",
     "start_time": "2021-06-10T18:49:25.943686Z"
    }
   },
   "outputs": [
    {
     "name": "stdout",
     "output_type": "stream",
     "text": [
      "Set of Thellier Data Containing the Sites:\n",
      "BD1\t(15 specimens)\n",
      "BD2\t(17 specimens)\n",
      "BD5\t(8 specimens)\n",
      "BD6\t(9 specimens)\n",
      "BD7\t(6 specimens)\n",
      "BD8\t(7 specimens)\n",
      "BD9\t(7 specimens)\n",
      "\n"
     ]
    }
   ],
   "source": [
    "data=BiCEP.ThellierData('BD_all.csv')\n",
    "print(data)"
   ]
  },
  {
   "cell_type": "markdown",
   "id": "177492e4-d709-474c-b7d3-38891db9694c",
   "metadata": {},
   "source": [
    "# Data processing and analysis"
   ]
  },
  {
   "cell_type": "markdown",
   "id": "b3582852-e4c2-46f9-98c7-369d78c4bef8",
   "metadata": {
    "tags": []
   },
   "source": [
    "### Looking at site and specimen data"
   ]
  },
  {
   "cell_type": "code",
   "execution_count": 8,
   "id": "3f411da0-199e-41f0-abe9-209a9948aab3",
   "metadata": {
    "ExecuteTime": {
     "end_time": "2021-06-10T18:49:29.564405Z",
     "start_time": "2021-06-10T18:49:29.561914Z"
    }
   },
   "outputs": [],
   "source": [
    "BD1=data['BD1']\n",
    "BD2=data['BD2']\n",
    "BD5=data['BD5']\n",
    "BD6=data['BD6']\n",
    "BD7=data['BD7']\n",
    "BD8=data['BD8']\n",
    "BD9=data['BD9']"
   ]
  },
  {
   "cell_type": "markdown",
   "id": "78411bd4-e6d9-4123-b915-08aa142622e1",
   "metadata": {},
   "source": [
    "## The BiCEP method- accounting for bias"
   ]
  },
  {
   "cell_type": "markdown",
   "id": "deb9269c-5216-432a-9d5b-21c83c566156",
   "metadata": {
    "tags": []
   },
   "source": [
    "### BD1"
   ]
  },
  {
   "cell_type": "code",
   "execution_count": 9,
   "id": "645e76ab-d7f7-4670-b27a-27da4bdb3f12",
   "metadata": {
    "ExecuteTime": {
     "end_time": "2021-06-10T18:53:27.580558Z",
     "start_time": "2021-06-10T18:53:04.818682Z"
    }
   },
   "outputs": [
    {
     "name": "stderr",
     "output_type": "stream",
     "text": [
      "WARNING:pystan:256 of 60000 iterations ended with a divergence (0.427 %).\n",
      "WARNING:pystan:Try running with adapt_delta larger than 0.8 to remove the divergences.\n"
     ]
    }
   ],
   "source": [
    "BD1.BiCEP_fit(model=BiCEP.model_circle_fast)\n",
    "#This cell may generate warnings from the internal pystan code. \n",
    "#The main error to watch for is one about R_hat, which indicates the sampler hasn't converged, a \"bad\" run"
   ]
  },
  {
   "cell_type": "code",
   "execution_count": 8,
   "id": "6f0b7eb5-e902-4482-b122-3561e00bc3a6",
   "metadata": {
    "ExecuteTime": {
     "end_time": "2021-05-15T15:41:11.894423Z",
     "start_time": "2021-05-15T15:41:11.060541Z"
    }
   },
   "outputs": [
    {
     "data": {
      "image/png": "[encoded data removed]",
      "text/plain": [
       "<Figure size 864x288 with 2 Axes>"
      ]
     },
     "metadata": {
      "needs_background": "light"
     },
     "output_type": "display_data"
    }
   ],
   "source": [
    "#set up subplots\n",
    "fig,ax=plt.subplots(1,2,figsize=(12,4))\n",
    "#Plot our plot of the BiCEP fit.\n",
    "BD1.regplot(ax=ax[0])\n",
    "ax[0].set_xlim(1.,1.6)\n",
    "ax[0].set_ylim(0,20);\n",
    "ax[0].set_ylabel('$B_{anc}$ ($\\mu$T)')\n",
    "ax[0].set_xlabel(r'$\\vec{k}$');\n",
    "#Plot our histogram\n",
    "BD1.histplot(ax=ax[1])\n",
    "ax[1].set_xlim(0, 100)\n",
    "fig.suptitle('BD1 estiamtes')\n",
    "plt.draw()\n",
    "plt.show();"
   ]
  },
  {
   "cell_type": "markdown",
   "id": "832f206c-8f79-474a-988e-f5f08b7dac5b",
   "metadata": {},
   "source": [
    "### BD2"
   ]
  },
  {
   "cell_type": "code",
   "execution_count": 11,
   "id": "4ac1d883-2991-4754-a54d-62404ec6bf6a",
   "metadata": {
    "ExecuteTime": {
     "end_time": "2021-06-10T18:53:27.580558Z",
     "start_time": "2021-06-10T18:53:04.818682Z"
    }
   },
   "outputs": [
    {
     "name": "stderr",
     "output_type": "stream",
     "text": [
      "WARNING:pystan:n_eff / iter below 0.001 indicates that the effective sample size has likely been overestimated\n",
      "WARNING:pystan:Rhat above 1.1 or below 0.9 indicates that the chains very likely have not mixed\n",
      "WARNING:pystan:14865 of 60000 iterations ended with a divergence (24.8 %).\n",
      "WARNING:pystan:Try running with adapt_delta larger than 0.8 to remove the divergences.\n"
     ]
    }
   ],
   "source": [
    "BD2.BiCEP_fit(model=BiCEP.model_circle_fast)\n",
    "#This cell may generate warnings from the internal pystan code. \n",
    "#The main error to watch for is one about R_hat, which indicates the sampler hasn't converged, a \"bad\" run"
   ]
  },
  {
   "cell_type": "code",
   "execution_count": 8,
   "id": "8fb7c434-4f4f-4e61-a33f-00b956ffc545",
   "metadata": {
    "ExecuteTime": {
     "end_time": "2021-05-15T15:41:11.894423Z",
     "start_time": "2021-05-15T15:41:11.060541Z"
    }
   },
   "outputs": [
    {
     "data": {
      "image/png": "[encoded data removed]",
      "text/plain": [
       "<Figure size 864x288 with 2 Axes>"
      ]
     },
     "metadata": {
      "needs_background": "light"
     },
     "output_type": "display_data"
    }
   ],
   "source": [
    "#set up subplots\n",
    "fig,ax=plt.subplots(1,2,figsize=(12,4))\n",
    "#Plot our plot of the BiCEP fit.\n",
    "BD2.regplot(ax=ax[0])\n",
    "ax[0].set_xlim(1.,1.6)\n",
    "ax[0].set_ylim(0,20);\n",
    "ax[0].set_ylabel('$B_{anc}$ ($\\mu$T)')\n",
    "ax[0].set_xlabel(r'$\\vec{k}$');\n",
    "#Plot our histogram\n",
    "BD2.histplot(ax=ax[1])\n",
    "ax[1].set_xlim(0, 100)\n",
    "fig.suptitle('BD2 estiamtes')\n",
    "plt.draw()\n",
    "plt.show();"
   ]
  },
  {
   "cell_type": "markdown",
   "id": "fbcfbe78-beb0-4df9-ba3a-17fdf93cc294",
   "metadata": {
    "tags": []
   },
   "source": [
    "### BD5"
   ]
  },
  {
   "cell_type": "code",
   "execution_count": 13,
   "id": "ecc9e3c6-932e-4f3d-839f-ca5441837f62",
   "metadata": {
    "ExecuteTime": {
     "end_time": "2021-06-10T18:53:27.580558Z",
     "start_time": "2021-06-10T18:53:04.818682Z"
    }
   },
   "outputs": [
    {
     "name": "stderr",
     "output_type": "stream",
     "text": [
      "Process ForkPoolWorker-10281:\n",
      "Process ForkPoolWorker-10279:\n",
      "Process ForkPoolWorker-10282:\n",
      "Process ForkPoolWorker-10287:\n",
      "Process ForkPoolWorker-10284:\n",
      "Process ForkPoolWorker-10283:\n",
      "Process ForkPoolWorker-10286:\n",
      "Process ForkPoolWorker-10288:\n",
      "Process ForkPoolWorker-10285:\n",
      "Process ForkPoolWorker-10290:\n",
      "Process ForkPoolWorker-10289:\n",
      "Traceback (most recent call last):\n",
      "Traceback (most recent call last):\n",
      "Traceback (most recent call last):\n",
      "Traceback (most recent call last):\n",
      "Traceback (most recent call last):\n",
      "Traceback (most recent call last):\n",
      "Traceback (most recent call last):\n",
      "Traceback (most recent call last):\n",
      "Traceback (most recent call last):\n",
      "Traceback (most recent call last):\n",
      "  File \"/Users/yimingzhang/anaconda3/lib/python3.7/multiprocessing/process.py\", line 297, in _bootstrap\n",
      "    self.run()\n",
      "  File \"/Users/yimingzhang/anaconda3/lib/python3.7/multiprocessing/process.py\", line 297, in _bootstrap\n",
      "    self.run()\n",
      "  File \"/Users/yimingzhang/anaconda3/lib/python3.7/multiprocessing/process.py\", line 297, in _bootstrap\n",
      "    self.run()\n",
      "  File \"/Users/yimingzhang/anaconda3/lib/python3.7/multiprocessing/process.py\", line 297, in _bootstrap\n",
      "    self.run()\n",
      "  File \"/Users/yimingzhang/anaconda3/lib/python3.7/multiprocessing/process.py\", line 297, in _bootstrap\n",
      "    self.run()\n",
      "  File \"/Users/yimingzhang/anaconda3/lib/python3.7/multiprocessing/process.py\", line 297, in _bootstrap\n",
      "    self.run()\n",
      "  File \"/Users/yimingzhang/anaconda3/lib/python3.7/multiprocessing/process.py\", line 297, in _bootstrap\n",
      "    self.run()\n",
      "  File \"/Users/yimingzhang/anaconda3/lib/python3.7/multiprocessing/process.py\", line 297, in _bootstrap\n",
      "    self.run()\n",
      "  File \"/Users/yimingzhang/anaconda3/lib/python3.7/multiprocessing/process.py\", line 297, in _bootstrap\n",
      "    self.run()\n",
      "  File \"/Users/yimingzhang/anaconda3/lib/python3.7/multiprocessing/process.py\", line 297, in _bootstrap\n",
      "    self.run()\n",
      "  File \"/Users/yimingzhang/anaconda3/lib/python3.7/multiprocessing/process.py\", line 99, in run\n",
      "    self._target(*self._args, **self._kwargs)\n",
      "  File \"/Users/yimingzhang/anaconda3/lib/python3.7/multiprocessing/process.py\", line 99, in run\n",
      "    self._target(*self._args, **self._kwargs)\n",
      "  File \"/Users/yimingzhang/anaconda3/lib/python3.7/multiprocessing/process.py\", line 99, in run\n",
      "    self._target(*self._args, **self._kwargs)\n",
      "  File \"/Users/yimingzhang/anaconda3/lib/python3.7/multiprocessing/process.py\", line 99, in run\n",
      "    self._target(*self._args, **self._kwargs)\n",
      "  File \"/Users/yimingzhang/anaconda3/lib/python3.7/multiprocessing/process.py\", line 99, in run\n",
      "    self._target(*self._args, **self._kwargs)\n",
      "  File \"/Users/yimingzhang/anaconda3/lib/python3.7/multiprocessing/process.py\", line 99, in run\n",
      "    self._target(*self._args, **self._kwargs)\n",
      "  File \"/Users/yimingzhang/anaconda3/lib/python3.7/multiprocessing/process.py\", line 99, in run\n",
      "    self._target(*self._args, **self._kwargs)\n",
      "  File \"/Users/yimingzhang/anaconda3/lib/python3.7/multiprocessing/process.py\", line 99, in run\n",
      "    self._target(*self._args, **self._kwargs)\n",
      "  File \"/Users/yimingzhang/anaconda3/lib/python3.7/multiprocessing/process.py\", line 99, in run\n",
      "    self._target(*self._args, **self._kwargs)\n",
      "  File \"/Users/yimingzhang/anaconda3/lib/python3.7/multiprocessing/process.py\", line 99, in run\n",
      "    self._target(*self._args, **self._kwargs)\n",
      "  File \"/Users/yimingzhang/anaconda3/lib/python3.7/multiprocessing/pool.py\", line 110, in worker\n",
      "    task = get()\n",
      "  File \"/Users/yimingzhang/anaconda3/lib/python3.7/multiprocessing/pool.py\", line 110, in worker\n",
      "    task = get()\n",
      "  File \"/Users/yimingzhang/anaconda3/lib/python3.7/multiprocessing/pool.py\", line 110, in worker\n",
      "    task = get()\n",
      "  File \"/Users/yimingzhang/anaconda3/lib/python3.7/multiprocessing/pool.py\", line 110, in worker\n",
      "    task = get()\n",
      "  File \"/Users/yimingzhang/anaconda3/lib/python3.7/multiprocessing/pool.py\", line 110, in worker\n",
      "    task = get()\n",
      "  File \"/Users/yimingzhang/anaconda3/lib/python3.7/multiprocessing/pool.py\", line 110, in worker\n",
      "    task = get()\n",
      "  File \"/Users/yimingzhang/anaconda3/lib/python3.7/multiprocessing/pool.py\", line 110, in worker\n",
      "    task = get()\n",
      "  File \"/Users/yimingzhang/anaconda3/lib/python3.7/multiprocessing/pool.py\", line 110, in worker\n",
      "    task = get()\n",
      "  File \"/Users/yimingzhang/anaconda3/lib/python3.7/multiprocessing/pool.py\", line 110, in worker\n",
      "    task = get()\n",
      "  File \"/Users/yimingzhang/anaconda3/lib/python3.7/multiprocessing/queues.py\", line 351, in get\n",
      "    with self._rlock:\n",
      "  File \"/Users/yimingzhang/anaconda3/lib/python3.7/multiprocessing/pool.py\", line 110, in worker\n",
      "    task = get()\n",
      "  File \"/Users/yimingzhang/anaconda3/lib/python3.7/multiprocessing/queues.py\", line 351, in get\n",
      "    with self._rlock:\n",
      "  File \"/Users/yimingzhang/anaconda3/lib/python3.7/multiprocessing/queues.py\", line 351, in get\n",
      "    with self._rlock:\n",
      "  File \"/Users/yimingzhang/anaconda3/lib/python3.7/multiprocessing/queues.py\", line 351, in get\n",
      "    with self._rlock:\n",
      "  File \"/Users/yimingzhang/anaconda3/lib/python3.7/multiprocessing/queues.py\", line 351, in get\n",
      "    with self._rlock:\n",
      "  File \"/Users/yimingzhang/anaconda3/lib/python3.7/multiprocessing/queues.py\", line 351, in get\n",
      "    with self._rlock:\n",
      "  File \"/Users/yimingzhang/anaconda3/lib/python3.7/multiprocessing/queues.py\", line 351, in get\n",
      "    with self._rlock:\n",
      "  File \"/Users/yimingzhang/anaconda3/lib/python3.7/multiprocessing/queues.py\", line 351, in get\n",
      "    with self._rlock:\n",
      "  File \"/Users/yimingzhang/anaconda3/lib/python3.7/multiprocessing/synchronize.py\", line 95, in __enter__\n",
      "    return self._semlock.__enter__()\n",
      "  File \"/Users/yimingzhang/anaconda3/lib/python3.7/multiprocessing/queues.py\", line 351, in get\n",
      "    with self._rlock:\n",
      "  File \"/Users/yimingzhang/anaconda3/lib/python3.7/multiprocessing/synchronize.py\", line 95, in __enter__\n",
      "    return self._semlock.__enter__()\n",
      "  File \"/Users/yimingzhang/anaconda3/lib/python3.7/multiprocessing/synchronize.py\", line 95, in __enter__\n",
      "    return self._semlock.__enter__()\n",
      "  File \"/Users/yimingzhang/anaconda3/lib/python3.7/multiprocessing/queues.py\", line 351, in get\n",
      "    with self._rlock:\n",
      "  File \"/Users/yimingzhang/anaconda3/lib/python3.7/multiprocessing/synchronize.py\", line 95, in __enter__\n",
      "    return self._semlock.__enter__()\n",
      "  File \"/Users/yimingzhang/anaconda3/lib/python3.7/multiprocessing/synchronize.py\", line 95, in __enter__\n",
      "    return self._semlock.__enter__()\n",
      "  File \"/Users/yimingzhang/anaconda3/lib/python3.7/multiprocessing/synchronize.py\", line 95, in __enter__\n",
      "    return self._semlock.__enter__()\n",
      "  File \"/Users/yimingzhang/anaconda3/lib/python3.7/multiprocessing/synchronize.py\", line 95, in __enter__\n",
      "    return self._semlock.__enter__()\n",
      "  File \"/Users/yimingzhang/anaconda3/lib/python3.7/multiprocessing/synchronize.py\", line 95, in __enter__\n",
      "    return self._semlock.__enter__()\n",
      "KeyboardInterrupt\n",
      "  File \"/Users/yimingzhang/anaconda3/lib/python3.7/multiprocessing/synchronize.py\", line 95, in __enter__\n",
      "    return self._semlock.__enter__()\n",
      "KeyboardInterrupt\n",
      "KeyboardInterrupt\n",
      "  File \"/Users/yimingzhang/anaconda3/lib/python3.7/multiprocessing/synchronize.py\", line 95, in __enter__\n",
      "    return self._semlock.__enter__()\n",
      "KeyboardInterrupt\n",
      "Traceback (most recent call last):\n",
      "KeyboardInterrupt\n",
      "KeyboardInterrupt\n",
      "KeyboardInterrupt\n",
      "KeyboardInterrupt\n",
      "KeyboardInterrupt\n",
      "KeyboardInterrupt\n",
      "  File \"/Users/yimingzhang/anaconda3/lib/python3.7/multiprocessing/process.py\", line 297, in _bootstrap\n",
      "    self.run()\n",
      "  File \"/Users/yimingzhang/anaconda3/lib/python3.7/multiprocessing/process.py\", line 99, in run\n",
      "    self._target(*self._args, **self._kwargs)\n",
      "  File \"/Users/yimingzhang/anaconda3/lib/python3.7/multiprocessing/pool.py\", line 110, in worker\n",
      "    task = get()\n",
      "  File \"/Users/yimingzhang/anaconda3/lib/python3.7/multiprocessing/queues.py\", line 352, in get\n",
      "    res = self._reader.recv_bytes()\n",
      "  File \"/Users/yimingzhang/anaconda3/lib/python3.7/multiprocessing/connection.py\", line 216, in recv_bytes\n",
      "    buf = self._recv_bytes(maxlength)\n",
      "  File \"/Users/yimingzhang/anaconda3/lib/python3.7/multiprocessing/connection.py\", line 407, in _recv_bytes\n",
      "    buf = self._recv(4)\n",
      "  File \"/Users/yimingzhang/anaconda3/lib/python3.7/multiprocessing/connection.py\", line 379, in _recv\n",
      "    chunk = read(handle, remaining)\n",
      "KeyboardInterrupt\n",
      "Process ForkPoolWorker-10296:\n",
      "Process ForkPoolWorker-10297:\n",
      "Process ForkPoolWorker-10294:\n",
      "Process ForkPoolWorker-10299:\n",
      "Process ForkPoolWorker-10298:\n",
      "Process ForkPoolWorker-10293:\n",
      "Process ForkPoolWorker-10295:\n",
      "Process ForkPoolWorker-10292:\n",
      "Process ForkPoolWorker-10300:\n",
      "Process ForkPoolWorker-10301:\n",
      "Process ForkPoolWorker-10291:\n",
      "Traceback (most recent call last):\n",
      "Traceback (most recent call last):\n",
      "Traceback (most recent call last):\n",
      "Traceback (most recent call last):\n",
      "Traceback (most recent call last):\n",
      "Traceback (most recent call last):\n",
      "Traceback (most recent call last):\n",
      "  File \"/Users/yimingzhang/anaconda3/lib/python3.7/multiprocessing/process.py\", line 297, in _bootstrap\n",
      "    self.run()\n",
      "Traceback (most recent call last):\n",
      "Traceback (most recent call last):\n",
      "  File \"/Users/yimingzhang/anaconda3/lib/python3.7/multiprocessing/process.py\", line 297, in _bootstrap\n",
      "    self.run()\n",
      "Traceback (most recent call last):\n",
      "  File \"/Users/yimingzhang/anaconda3/lib/python3.7/multiprocessing/process.py\", line 297, in _bootstrap\n",
      "    self.run()\n"
     ]
    },
    {
     "ename": "KeyboardInterrupt",
     "evalue": "",
     "output_type": "error",
     "traceback": [
      "\u001b[0;31m---------------------------------------------------------------------------\u001b[0m",
      "\u001b[0;31mKeyboardInterrupt\u001b[0m                         Traceback (most recent call last)",
      "\u001b[0;32m~/anaconda3/lib/python3.7/site-packages/pystan/model.py\u001b[0m in \u001b[0;36m_map_parallel\u001b[0;34m(function, args, n_jobs)\u001b[0m\n\u001b[1;32m     84\u001b[0m             \u001b[0mpool\u001b[0m \u001b[0;34m=\u001b[0m \u001b[0mmultiprocessing\u001b[0m\u001b[0;34m.\u001b[0m\u001b[0mPool\u001b[0m\u001b[0;34m(\u001b[0m\u001b[0mprocesses\u001b[0m\u001b[0;34m=\u001b[0m\u001b[0mn_jobs\u001b[0m\u001b[0;34m)\u001b[0m\u001b[0;34m\u001b[0m\u001b[0;34m\u001b[0m\u001b[0m\n\u001b[0;32m---> 85\u001b[0;31m             \u001b[0mmap_result\u001b[0m \u001b[0;34m=\u001b[0m \u001b[0mpool\u001b[0m\u001b[0;34m.\u001b[0m\u001b[0mmap\u001b[0m\u001b[0;34m(\u001b[0m\u001b[0mfunction\u001b[0m\u001b[0;34m,\u001b[0m \u001b[0margs\u001b[0m\u001b[0;34m)\u001b[0m\u001b[0;34m\u001b[0m\u001b[0;34m\u001b[0m\u001b[0m\n\u001b[0m\u001b[1;32m     86\u001b[0m         \u001b[0;32mfinally\u001b[0m\u001b[0;34m:\u001b[0m\u001b[0;34m\u001b[0m\u001b[0;34m\u001b[0m\u001b[0m\n",
      "\u001b[0;32m~/anaconda3/lib/python3.7/multiprocessing/pool.py\u001b[0m in \u001b[0;36mmap\u001b[0;34m(self, func, iterable, chunksize)\u001b[0m\n\u001b[1;32m    267\u001b[0m         '''\n\u001b[0;32m--> 268\u001b[0;31m         \u001b[0;32mreturn\u001b[0m \u001b[0mself\u001b[0m\u001b[0;34m.\u001b[0m\u001b[0m_map_async\u001b[0m\u001b[0;34m(\u001b[0m\u001b[0mfunc\u001b[0m\u001b[0;34m,\u001b[0m \u001b[0miterable\u001b[0m\u001b[0;34m,\u001b[0m \u001b[0mmapstar\u001b[0m\u001b[0;34m,\u001b[0m \u001b[0mchunksize\u001b[0m\u001b[0;34m)\u001b[0m\u001b[0;34m.\u001b[0m\u001b[0mget\u001b[0m\u001b[0;34m(\u001b[0m\u001b[0;34m)\u001b[0m\u001b[0;34m\u001b[0m\u001b[0;34m\u001b[0m\u001b[0m\n\u001b[0m\u001b[1;32m    269\u001b[0m \u001b[0;34m\u001b[0m\u001b[0m\n",
      "\u001b[0;32m~/anaconda3/lib/python3.7/multiprocessing/pool.py\u001b[0m in \u001b[0;36mget\u001b[0;34m(self, timeout)\u001b[0m\n\u001b[1;32m    650\u001b[0m     \u001b[0;32mdef\u001b[0m \u001b[0mget\u001b[0m\u001b[0;34m(\u001b[0m\u001b[0mself\u001b[0m\u001b[0;34m,\u001b[0m \u001b[0mtimeout\u001b[0m\u001b[0;34m=\u001b[0m\u001b[0;32mNone\u001b[0m\u001b[0;34m)\u001b[0m\u001b[0;34m:\u001b[0m\u001b[0;34m\u001b[0m\u001b[0;34m\u001b[0m\u001b[0m\n\u001b[0;32m--> 651\u001b[0;31m         \u001b[0mself\u001b[0m\u001b[0;34m.\u001b[0m\u001b[0mwait\u001b[0m\u001b[0;34m(\u001b[0m\u001b[0mtimeout\u001b[0m\u001b[0;34m)\u001b[0m\u001b[0;34m\u001b[0m\u001b[0;34m\u001b[0m\u001b[0m\n\u001b[0m\u001b[1;32m    652\u001b[0m         \u001b[0;32mif\u001b[0m \u001b[0;32mnot\u001b[0m \u001b[0mself\u001b[0m\u001b[0;34m.\u001b[0m\u001b[0mready\u001b[0m\u001b[0;34m(\u001b[0m\u001b[0;34m)\u001b[0m\u001b[0;34m:\u001b[0m\u001b[0;34m\u001b[0m\u001b[0;34m\u001b[0m\u001b[0m\n",
      "\u001b[0;32m~/anaconda3/lib/python3.7/multiprocessing/pool.py\u001b[0m in \u001b[0;36mwait\u001b[0;34m(self, timeout)\u001b[0m\n\u001b[1;32m    647\u001b[0m     \u001b[0;32mdef\u001b[0m \u001b[0mwait\u001b[0m\u001b[0;34m(\u001b[0m\u001b[0mself\u001b[0m\u001b[0;34m,\u001b[0m \u001b[0mtimeout\u001b[0m\u001b[0;34m=\u001b[0m\u001b[0;32mNone\u001b[0m\u001b[0;34m)\u001b[0m\u001b[0;34m:\u001b[0m\u001b[0;34m\u001b[0m\u001b[0;34m\u001b[0m\u001b[0m\n\u001b[0;32m--> 648\u001b[0;31m         \u001b[0mself\u001b[0m\u001b[0;34m.\u001b[0m\u001b[0m_event\u001b[0m\u001b[0;34m.\u001b[0m\u001b[0mwait\u001b[0m\u001b[0;34m(\u001b[0m\u001b[0mtimeout\u001b[0m\u001b[0;34m)\u001b[0m\u001b[0;34m\u001b[0m\u001b[0;34m\u001b[0m\u001b[0m\n\u001b[0m\u001b[1;32m    649\u001b[0m \u001b[0;34m\u001b[0m\u001b[0m\n",
      "\u001b[0;32m~/anaconda3/lib/python3.7/threading.py\u001b[0m in \u001b[0;36mwait\u001b[0;34m(self, timeout)\u001b[0m\n\u001b[1;32m    551\u001b[0m             \u001b[0;32mif\u001b[0m \u001b[0;32mnot\u001b[0m \u001b[0msignaled\u001b[0m\u001b[0;34m:\u001b[0m\u001b[0;34m\u001b[0m\u001b[0;34m\u001b[0m\u001b[0m\n\u001b[0;32m--> 552\u001b[0;31m                 \u001b[0msignaled\u001b[0m \u001b[0;34m=\u001b[0m \u001b[0mself\u001b[0m\u001b[0;34m.\u001b[0m\u001b[0m_cond\u001b[0m\u001b[0;34m.\u001b[0m\u001b[0mwait\u001b[0m\u001b[0;34m(\u001b[0m\u001b[0mtimeout\u001b[0m\u001b[0;34m)\u001b[0m\u001b[0;34m\u001b[0m\u001b[0;34m\u001b[0m\u001b[0m\n\u001b[0m\u001b[1;32m    553\u001b[0m             \u001b[0;32mreturn\u001b[0m \u001b[0msignaled\u001b[0m\u001b[0;34m\u001b[0m\u001b[0;34m\u001b[0m\u001b[0m\n",
      "\u001b[0;32m~/anaconda3/lib/python3.7/threading.py\u001b[0m in \u001b[0;36mwait\u001b[0;34m(self, timeout)\u001b[0m\n\u001b[1;32m    295\u001b[0m             \u001b[0;32mif\u001b[0m \u001b[0mtimeout\u001b[0m \u001b[0;32mis\u001b[0m \u001b[0;32mNone\u001b[0m\u001b[0;34m:\u001b[0m\u001b[0;34m\u001b[0m\u001b[0;34m\u001b[0m\u001b[0m\n\u001b[0;32m--> 296\u001b[0;31m                 \u001b[0mwaiter\u001b[0m\u001b[0;34m.\u001b[0m\u001b[0macquire\u001b[0m\u001b[0;34m(\u001b[0m\u001b[0;34m)\u001b[0m\u001b[0;34m\u001b[0m\u001b[0;34m\u001b[0m\u001b[0m\n\u001b[0m\u001b[1;32m    297\u001b[0m                 \u001b[0mgotit\u001b[0m \u001b[0;34m=\u001b[0m \u001b[0;32mTrue\u001b[0m\u001b[0;34m\u001b[0m\u001b[0;34m\u001b[0m\u001b[0m\n",
      "\u001b[0;31mKeyboardInterrupt\u001b[0m: ",
      "\nDuring handling of the above exception, another exception occurred:\n",
      "\u001b[0;31mKeyboardInterrupt\u001b[0m                         Traceback (most recent call last)",
      "\u001b[0;32m<ipython-input-13-00b3ffe091cb>\u001b[0m in \u001b[0;36m<module>\u001b[0;34m\u001b[0m\n\u001b[0;32m----> 1\u001b[0;31m \u001b[0mBD5\u001b[0m\u001b[0;34m.\u001b[0m\u001b[0mBiCEP_fit\u001b[0m\u001b[0;34m(\u001b[0m\u001b[0mmodel\u001b[0m\u001b[0;34m=\u001b[0m\u001b[0mBiCEP\u001b[0m\u001b[0;34m.\u001b[0m\u001b[0mmodel_circle_fast\u001b[0m\u001b[0;34m)\u001b[0m\u001b[0;34m\u001b[0m\u001b[0;34m\u001b[0m\u001b[0m\n\u001b[0m\u001b[1;32m      2\u001b[0m \u001b[0;31m#This cell may generate warnings from the internal pystan code.\u001b[0m\u001b[0;34m\u001b[0m\u001b[0;34m\u001b[0m\u001b[0;34m\u001b[0m\u001b[0m\n\u001b[1;32m      3\u001b[0m \u001b[0;31m#The main error to watch for is one about R_hat, which indicates the sampler hasn't converged, a \"bad\" run\u001b[0m\u001b[0;34m\u001b[0m\u001b[0;34m\u001b[0m\u001b[0;34m\u001b[0m\u001b[0m\n",
      "\u001b[0;32m~/Github/AX_BD_PINT/code/BiCEP_modules_and_scripts/BiCEP_functions.py\u001b[0m in \u001b[0;36mBiCEP_fit\u001b[0;34m(self, n_samples, priorstd, model, **kwargs)\u001b[0m\n\u001b[1;32m    396\u001b[0m         fit_circle=model_circle.sampling (\n\u001b[1;32m    397\u001b[0m             \u001b[0mdata\u001b[0m\u001b[0;34m=\u001b[0m\u001b[0;34m{\u001b[0m\u001b[0;34m'I'\u001b[0m\u001b[0;34m:\u001b[0m\u001b[0mlen\u001b[0m\u001b[0;34m(\u001b[0m\u001b[0mpTRMsList\u001b[0m\u001b[0;34m)\u001b[0m\u001b[0;34m,\u001b[0m\u001b[0;34m'M'\u001b[0m\u001b[0;34m:\u001b[0m\u001b[0mlen\u001b[0m\u001b[0;34m(\u001b[0m\u001b[0mlengths\u001b[0m\u001b[0;34m)\u001b[0m\u001b[0;34m,\u001b[0m\u001b[0;34m'PTRM'\u001b[0m\u001b[0;34m:\u001b[0m\u001b[0mpTRMsList\u001b[0m\u001b[0;34m,\u001b[0m\u001b[0;34m'NRM'\u001b[0m\u001b[0;34m:\u001b[0m\u001b[0mNRMsList\u001b[0m\u001b[0;34m,\u001b[0m\u001b[0;34m'N'\u001b[0m\u001b[0;34m:\u001b[0m\u001b[0mlengths\u001b[0m\u001b[0;34m,\u001b[0m\u001b[0;34m'PTRMmax'\u001b[0m\u001b[0;34m:\u001b[0m\u001b[0mPTRMmaxlist\u001b[0m\u001b[0;34m,\u001b[0m\u001b[0;34m'B_labs'\u001b[0m\u001b[0;34m:\u001b[0m\u001b[0mB_lab_list\u001b[0m\u001b[0;34m,\u001b[0m\u001b[0;34m'dmax'\u001b[0m\u001b[0;34m:\u001b[0m\u001b[0mnp\u001b[0m\u001b[0;34m.\u001b[0m\u001b[0msqrt\u001b[0m\u001b[0;34m(\u001b[0m\u001b[0mdmaxlist\u001b[0m\u001b[0;34m)\u001b[0m\u001b[0;34m,\u001b[0m\u001b[0;34m'centroid'\u001b[0m\u001b[0;34m:\u001b[0m\u001b[0mcentroidlist\u001b[0m\u001b[0;34m,\u001b[0m\u001b[0;34m'priorstd'\u001b[0m\u001b[0;34m:\u001b[0m\u001b[0mpriorstd\u001b[0m\u001b[0;34m}\u001b[0m\u001b[0;34m,\u001b[0m\u001b[0miter\u001b[0m\u001b[0;34m=\u001b[0m\u001b[0mn_samples\u001b[0m\u001b[0;34m,\u001b[0m\u001b[0mwarmup\u001b[0m\u001b[0;34m=\u001b[0m\u001b[0mint\u001b[0m\u001b[0;34m(\u001b[0m\u001b[0mn_samples\u001b[0m\u001b[0;34m/\u001b[0m\u001b[0;36m2\u001b[0m\u001b[0;34m)\u001b[0m\u001b[0;34m,\u001b[0m\u001b[0;34m\u001b[0m\u001b[0;34m\u001b[0m\u001b[0m\n\u001b[0;32m--> 398\u001b[0;31m             init=[{'k_scale':np.array(klist)*np.array(dist_to_edgelist),'phi':philist,'dist_to_edge':dist_to_edgelist,'int_real':B_ancs}]*4,**kwargs)\n\u001b[0m\u001b[1;32m    399\u001b[0m         \u001b[0mself\u001b[0m\u001b[0;34m.\u001b[0m\u001b[0mfit\u001b[0m\u001b[0;34m=\u001b[0m\u001b[0mfit_circle\u001b[0m\u001b[0;34m\u001b[0m\u001b[0;34m\u001b[0m\u001b[0m\n\u001b[1;32m    400\u001b[0m         \u001b[0;31m#except:\u001b[0m\u001b[0;34m\u001b[0m\u001b[0;34m\u001b[0m\u001b[0;34m\u001b[0m\u001b[0m\n",
      "\u001b[0;32m~/anaconda3/lib/python3.7/site-packages/pystan/model.py\u001b[0m in \u001b[0;36msampling\u001b[0;34m(self, data, pars, chains, iter, warmup, thin, seed, init, sample_file, diagnostic_file, verbose, algorithm, control, n_jobs, **kwargs)\u001b[0m\n\u001b[1;32m    811\u001b[0m         \u001b[0mcall_sampler_args\u001b[0m \u001b[0;34m=\u001b[0m \u001b[0mizip\u001b[0m\u001b[0;34m(\u001b[0m\u001b[0mitertools\u001b[0m\u001b[0;34m.\u001b[0m\u001b[0mrepeat\u001b[0m\u001b[0;34m(\u001b[0m\u001b[0mdata\u001b[0m\u001b[0;34m)\u001b[0m\u001b[0;34m,\u001b[0m \u001b[0margs_list\u001b[0m\u001b[0;34m,\u001b[0m \u001b[0mitertools\u001b[0m\u001b[0;34m.\u001b[0m\u001b[0mrepeat\u001b[0m\u001b[0;34m(\u001b[0m\u001b[0mpars\u001b[0m\u001b[0;34m)\u001b[0m\u001b[0;34m)\u001b[0m\u001b[0;34m\u001b[0m\u001b[0;34m\u001b[0m\u001b[0m\n\u001b[1;32m    812\u001b[0m         \u001b[0mcall_sampler_star\u001b[0m \u001b[0;34m=\u001b[0m \u001b[0mself\u001b[0m\u001b[0;34m.\u001b[0m\u001b[0mmodule\u001b[0m\u001b[0;34m.\u001b[0m\u001b[0m_call_sampler_star\u001b[0m\u001b[0;34m\u001b[0m\u001b[0;34m\u001b[0m\u001b[0m\n\u001b[0;32m--> 813\u001b[0;31m         \u001b[0mret_and_samples\u001b[0m \u001b[0;34m=\u001b[0m \u001b[0m_map_parallel\u001b[0m\u001b[0;34m(\u001b[0m\u001b[0mcall_sampler_star\u001b[0m\u001b[0;34m,\u001b[0m \u001b[0mcall_sampler_args\u001b[0m\u001b[0;34m,\u001b[0m \u001b[0mn_jobs\u001b[0m\u001b[0;34m)\u001b[0m\u001b[0;34m\u001b[0m\u001b[0;34m\u001b[0m\u001b[0m\n\u001b[0m\u001b[1;32m    814\u001b[0m         \u001b[0msamples\u001b[0m \u001b[0;34m=\u001b[0m \u001b[0;34m[\u001b[0m\u001b[0msmpl\u001b[0m \u001b[0;32mfor\u001b[0m \u001b[0m_\u001b[0m\u001b[0;34m,\u001b[0m \u001b[0msmpl\u001b[0m \u001b[0;32min\u001b[0m \u001b[0mret_and_samples\u001b[0m\u001b[0;34m]\u001b[0m\u001b[0;34m\u001b[0m\u001b[0;34m\u001b[0m\u001b[0m\n\u001b[1;32m    815\u001b[0m \u001b[0;34m\u001b[0m\u001b[0m\n",
      "\u001b[0;32m~/anaconda3/lib/python3.7/site-packages/pystan/model.py\u001b[0m in \u001b[0;36m_map_parallel\u001b[0;34m(function, args, n_jobs)\u001b[0m\n\u001b[1;32m     86\u001b[0m         \u001b[0;32mfinally\u001b[0m\u001b[0;34m:\u001b[0m\u001b[0;34m\u001b[0m\u001b[0;34m\u001b[0m\u001b[0m\n\u001b[1;32m     87\u001b[0m             \u001b[0mpool\u001b[0m\u001b[0;34m.\u001b[0m\u001b[0mclose\u001b[0m\u001b[0;34m(\u001b[0m\u001b[0;34m)\u001b[0m\u001b[0;34m\u001b[0m\u001b[0;34m\u001b[0m\u001b[0m\n\u001b[0;32m---> 88\u001b[0;31m             \u001b[0mpool\u001b[0m\u001b[0;34m.\u001b[0m\u001b[0mjoin\u001b[0m\u001b[0;34m(\u001b[0m\u001b[0;34m)\u001b[0m\u001b[0;34m\u001b[0m\u001b[0;34m\u001b[0m\u001b[0m\n\u001b[0m\u001b[1;32m     89\u001b[0m     \u001b[0;32melse\u001b[0m\u001b[0;34m:\u001b[0m\u001b[0;34m\u001b[0m\u001b[0;34m\u001b[0m\u001b[0m\n\u001b[1;32m     90\u001b[0m         \u001b[0mmap_result\u001b[0m \u001b[0;34m=\u001b[0m \u001b[0mlist\u001b[0m\u001b[0;34m(\u001b[0m\u001b[0mmap\u001b[0m\u001b[0;34m(\u001b[0m\u001b[0mfunction\u001b[0m\u001b[0;34m,\u001b[0m \u001b[0margs\u001b[0m\u001b[0;34m)\u001b[0m\u001b[0;34m)\u001b[0m\u001b[0;34m\u001b[0m\u001b[0;34m\u001b[0m\u001b[0m\n",
      "\u001b[0;32m~/anaconda3/lib/python3.7/multiprocessing/pool.py\u001b[0m in \u001b[0;36mjoin\u001b[0;34m(self)\u001b[0m\n\u001b[1;32m    554\u001b[0m         \u001b[0;32melif\u001b[0m \u001b[0mself\u001b[0m\u001b[0;34m.\u001b[0m\u001b[0m_state\u001b[0m \u001b[0;32mnot\u001b[0m \u001b[0;32min\u001b[0m \u001b[0;34m(\u001b[0m\u001b[0mCLOSE\u001b[0m\u001b[0;34m,\u001b[0m \u001b[0mTERMINATE\u001b[0m\u001b[0;34m)\u001b[0m\u001b[0;34m:\u001b[0m\u001b[0;34m\u001b[0m\u001b[0;34m\u001b[0m\u001b[0m\n\u001b[1;32m    555\u001b[0m             \u001b[0;32mraise\u001b[0m \u001b[0mValueError\u001b[0m\u001b[0;34m(\u001b[0m\u001b[0;34m\"In unknown state\"\u001b[0m\u001b[0;34m)\u001b[0m\u001b[0;34m\u001b[0m\u001b[0;34m\u001b[0m\u001b[0m\n\u001b[0;32m--> 556\u001b[0;31m         \u001b[0mself\u001b[0m\u001b[0;34m.\u001b[0m\u001b[0m_worker_handler\u001b[0m\u001b[0;34m.\u001b[0m\u001b[0mjoin\u001b[0m\u001b[0;34m(\u001b[0m\u001b[0;34m)\u001b[0m\u001b[0;34m\u001b[0m\u001b[0;34m\u001b[0m\u001b[0m\n\u001b[0m\u001b[1;32m    557\u001b[0m         \u001b[0mself\u001b[0m\u001b[0;34m.\u001b[0m\u001b[0m_task_handler\u001b[0m\u001b[0;34m.\u001b[0m\u001b[0mjoin\u001b[0m\u001b[0;34m(\u001b[0m\u001b[0;34m)\u001b[0m\u001b[0;34m\u001b[0m\u001b[0;34m\u001b[0m\u001b[0m\n\u001b[1;32m    558\u001b[0m         \u001b[0mself\u001b[0m\u001b[0;34m.\u001b[0m\u001b[0m_result_handler\u001b[0m\u001b[0;34m.\u001b[0m\u001b[0mjoin\u001b[0m\u001b[0;34m(\u001b[0m\u001b[0;34m)\u001b[0m\u001b[0;34m\u001b[0m\u001b[0;34m\u001b[0m\u001b[0m\n",
      "\u001b[0;32m~/anaconda3/lib/python3.7/threading.py\u001b[0m in \u001b[0;36mjoin\u001b[0;34m(self, timeout)\u001b[0m\n\u001b[1;32m   1042\u001b[0m \u001b[0;34m\u001b[0m\u001b[0m\n\u001b[1;32m   1043\u001b[0m         \u001b[0;32mif\u001b[0m \u001b[0mtimeout\u001b[0m \u001b[0;32mis\u001b[0m \u001b[0;32mNone\u001b[0m\u001b[0;34m:\u001b[0m\u001b[0;34m\u001b[0m\u001b[0;34m\u001b[0m\u001b[0m\n\u001b[0;32m-> 1044\u001b[0;31m             \u001b[0mself\u001b[0m\u001b[0;34m.\u001b[0m\u001b[0m_wait_for_tstate_lock\u001b[0m\u001b[0;34m(\u001b[0m\u001b[0;34m)\u001b[0m\u001b[0;34m\u001b[0m\u001b[0;34m\u001b[0m\u001b[0m\n\u001b[0m\u001b[1;32m   1045\u001b[0m         \u001b[0;32melse\u001b[0m\u001b[0;34m:\u001b[0m\u001b[0;34m\u001b[0m\u001b[0;34m\u001b[0m\u001b[0m\n\u001b[1;32m   1046\u001b[0m             \u001b[0;31m# the behavior of a negative timeout isn't documented, but\u001b[0m\u001b[0;34m\u001b[0m\u001b[0;34m\u001b[0m\u001b[0;34m\u001b[0m\u001b[0m\n",
      "\u001b[0;32m~/anaconda3/lib/python3.7/threading.py\u001b[0m in \u001b[0;36m_wait_for_tstate_lock\u001b[0;34m(self, block, timeout)\u001b[0m\n\u001b[1;32m   1058\u001b[0m         \u001b[0;32mif\u001b[0m \u001b[0mlock\u001b[0m \u001b[0;32mis\u001b[0m \u001b[0;32mNone\u001b[0m\u001b[0;34m:\u001b[0m  \u001b[0;31m# already determined that the C code is done\u001b[0m\u001b[0;34m\u001b[0m\u001b[0;34m\u001b[0m\u001b[0m\n\u001b[1;32m   1059\u001b[0m             \u001b[0;32massert\u001b[0m \u001b[0mself\u001b[0m\u001b[0;34m.\u001b[0m\u001b[0m_is_stopped\u001b[0m\u001b[0;34m\u001b[0m\u001b[0;34m\u001b[0m\u001b[0m\n\u001b[0;32m-> 1060\u001b[0;31m         \u001b[0;32melif\u001b[0m \u001b[0mlock\u001b[0m\u001b[0;34m.\u001b[0m\u001b[0macquire\u001b[0m\u001b[0;34m(\u001b[0m\u001b[0mblock\u001b[0m\u001b[0;34m,\u001b[0m \u001b[0mtimeout\u001b[0m\u001b[0;34m)\u001b[0m\u001b[0;34m:\u001b[0m\u001b[0;34m\u001b[0m\u001b[0;34m\u001b[0m\u001b[0m\n\u001b[0m\u001b[1;32m   1061\u001b[0m             \u001b[0mlock\u001b[0m\u001b[0;34m.\u001b[0m\u001b[0mrelease\u001b[0m\u001b[0;34m(\u001b[0m\u001b[0;34m)\u001b[0m\u001b[0;34m\u001b[0m\u001b[0;34m\u001b[0m\u001b[0m\n\u001b[1;32m   1062\u001b[0m             \u001b[0mself\u001b[0m\u001b[0;34m.\u001b[0m\u001b[0m_stop\u001b[0m\u001b[0;34m(\u001b[0m\u001b[0;34m)\u001b[0m\u001b[0;34m\u001b[0m\u001b[0;34m\u001b[0m\u001b[0m\n",
      "\u001b[0;31mKeyboardInterrupt\u001b[0m: "
     ]
    },
    {
     "name": "stderr",
     "output_type": "stream",
     "text": [
      "Traceback (most recent call last):\n",
      "  File \"/Users/yimingzhang/anaconda3/lib/python3.7/multiprocessing/process.py\", line 297, in _bootstrap\n",
      "    self.run()\n",
      "  File \"/Users/yimingzhang/anaconda3/lib/python3.7/multiprocessing/process.py\", line 297, in _bootstrap\n",
      "    self.run()\n",
      "  File \"/Users/yimingzhang/anaconda3/lib/python3.7/multiprocessing/process.py\", line 99, in run\n",
      "    self._target(*self._args, **self._kwargs)\n",
      "  File \"/Users/yimingzhang/anaconda3/lib/python3.7/multiprocessing/process.py\", line 297, in _bootstrap\n",
      "    self.run()\n",
      "  File \"/Users/yimingzhang/anaconda3/lib/python3.7/multiprocessing/process.py\", line 297, in _bootstrap\n",
      "    self.run()\n",
      "  File \"/Users/yimingzhang/anaconda3/lib/python3.7/multiprocessing/process.py\", line 297, in _bootstrap\n",
      "    self.run()\n",
      "  File \"/Users/yimingzhang/anaconda3/lib/python3.7/multiprocessing/process.py\", line 99, in run\n",
      "    self._target(*self._args, **self._kwargs)\n",
      "  File \"/Users/yimingzhang/anaconda3/lib/python3.7/multiprocessing/process.py\", line 99, in run\n",
      "    self._target(*self._args, **self._kwargs)\n",
      "  File \"/Users/yimingzhang/anaconda3/lib/python3.7/multiprocessing/process.py\", line 297, in _bootstrap\n",
      "    self.run()\n",
      "  File \"/Users/yimingzhang/anaconda3/lib/python3.7/multiprocessing/process.py\", line 297, in _bootstrap\n",
      "    self.run()\n",
      "  File \"/Users/yimingzhang/anaconda3/lib/python3.7/multiprocessing/process.py\", line 297, in _bootstrap\n",
      "    self.run()\n",
      "  File \"/Users/yimingzhang/anaconda3/lib/python3.7/multiprocessing/process.py\", line 99, in run\n",
      "    self._target(*self._args, **self._kwargs)\n",
      "  File \"/Users/yimingzhang/anaconda3/lib/python3.7/multiprocessing/process.py\", line 99, in run\n",
      "    self._target(*self._args, **self._kwargs)\n",
      "  File \"/Users/yimingzhang/anaconda3/lib/python3.7/multiprocessing/pool.py\", line 110, in worker\n",
      "    task = get()\n",
      "  File \"/Users/yimingzhang/anaconda3/lib/python3.7/multiprocessing/process.py\", line 99, in run\n",
      "    self._target(*self._args, **self._kwargs)\n",
      "  File \"/Users/yimingzhang/anaconda3/lib/python3.7/multiprocessing/process.py\", line 99, in run\n",
      "    self._target(*self._args, **self._kwargs)\n",
      "  File \"/Users/yimingzhang/anaconda3/lib/python3.7/multiprocessing/process.py\", line 99, in run\n",
      "    self._target(*self._args, **self._kwargs)\n",
      "  File \"/Users/yimingzhang/anaconda3/lib/python3.7/multiprocessing/pool.py\", line 110, in worker\n",
      "    task = get()\n",
      "  File \"/Users/yimingzhang/anaconda3/lib/python3.7/multiprocessing/pool.py\", line 110, in worker\n",
      "    task = get()\n",
      "  File \"/Users/yimingzhang/anaconda3/lib/python3.7/multiprocessing/process.py\", line 99, in run\n",
      "    self._target(*self._args, **self._kwargs)\n",
      "  File \"/Users/yimingzhang/anaconda3/lib/python3.7/multiprocessing/process.py\", line 99, in run\n",
      "    self._target(*self._args, **self._kwargs)\n",
      "  File \"/Users/yimingzhang/anaconda3/lib/python3.7/multiprocessing/pool.py\", line 110, in worker\n",
      "    task = get()\n",
      "  File \"/Users/yimingzhang/anaconda3/lib/python3.7/multiprocessing/process.py\", line 99, in run\n",
      "    self._target(*self._args, **self._kwargs)\n",
      "  File \"/Users/yimingzhang/anaconda3/lib/python3.7/multiprocessing/pool.py\", line 110, in worker\n",
      "    task = get()\n",
      "  File \"/Users/yimingzhang/anaconda3/lib/python3.7/multiprocessing/queues.py\", line 351, in get\n",
      "    with self._rlock:\n",
      "  File \"/Users/yimingzhang/anaconda3/lib/python3.7/multiprocessing/pool.py\", line 110, in worker\n",
      "    task = get()\n",
      "  File \"/Users/yimingzhang/anaconda3/lib/python3.7/multiprocessing/pool.py\", line 110, in worker\n",
      "    task = get()\n",
      "  File \"/Users/yimingzhang/anaconda3/lib/python3.7/multiprocessing/pool.py\", line 110, in worker\n",
      "    task = get()\n",
      "  File \"/Users/yimingzhang/anaconda3/lib/python3.7/multiprocessing/queues.py\", line 351, in get\n",
      "    with self._rlock:\n",
      "  File \"/Users/yimingzhang/anaconda3/lib/python3.7/multiprocessing/pool.py\", line 110, in worker\n",
      "    task = get()\n",
      "  File \"/Users/yimingzhang/anaconda3/lib/python3.7/multiprocessing/pool.py\", line 110, in worker\n",
      "    task = get()\n",
      "  File \"/Users/yimingzhang/anaconda3/lib/python3.7/multiprocessing/queues.py\", line 351, in get\n",
      "    with self._rlock:\n",
      "  File \"/Users/yimingzhang/anaconda3/lib/python3.7/multiprocessing/queues.py\", line 351, in get\n",
      "    with self._rlock:\n",
      "  File \"/Users/yimingzhang/anaconda3/lib/python3.7/multiprocessing/pool.py\", line 110, in worker\n",
      "    task = get()\n",
      "  File \"/Users/yimingzhang/anaconda3/lib/python3.7/multiprocessing/synchronize.py\", line 95, in __enter__\n",
      "    return self._semlock.__enter__()\n",
      "  File \"/Users/yimingzhang/anaconda3/lib/python3.7/multiprocessing/queues.py\", line 351, in get\n",
      "    with self._rlock:\n",
      "  File \"/Users/yimingzhang/anaconda3/lib/python3.7/multiprocessing/queues.py\", line 351, in get\n",
      "    with self._rlock:\n",
      "  File \"/Users/yimingzhang/anaconda3/lib/python3.7/multiprocessing/queues.py\", line 351, in get\n",
      "    with self._rlock:\n",
      "  File \"/Users/yimingzhang/anaconda3/lib/python3.7/multiprocessing/synchronize.py\", line 95, in __enter__\n",
      "    return self._semlock.__enter__()\n",
      "  File \"/Users/yimingzhang/anaconda3/lib/python3.7/multiprocessing/queues.py\", line 351, in get\n",
      "    with self._rlock:\n",
      "  File \"/Users/yimingzhang/anaconda3/lib/python3.7/multiprocessing/queues.py\", line 351, in get\n",
      "    with self._rlock:\n",
      "  File \"/Users/yimingzhang/anaconda3/lib/python3.7/multiprocessing/synchronize.py\", line 95, in __enter__\n",
      "    return self._semlock.__enter__()\n",
      "  File \"/Users/yimingzhang/anaconda3/lib/python3.7/multiprocessing/queues.py\", line 351, in get\n",
      "    with self._rlock:\n",
      "  File \"/Users/yimingzhang/anaconda3/lib/python3.7/multiprocessing/synchronize.py\", line 95, in __enter__\n",
      "    return self._semlock.__enter__()\n",
      "  File \"/Users/yimingzhang/anaconda3/lib/python3.7/multiprocessing/queues.py\", line 352, in get\n",
      "    res = self._reader.recv_bytes()\n",
      "KeyboardInterrupt\n",
      "  File \"/Users/yimingzhang/anaconda3/lib/python3.7/multiprocessing/synchronize.py\", line 95, in __enter__\n",
      "    return self._semlock.__enter__()\n",
      "  File \"/Users/yimingzhang/anaconda3/lib/python3.7/multiprocessing/synchronize.py\", line 95, in __enter__\n",
      "    return self._semlock.__enter__()\n",
      "  File \"/Users/yimingzhang/anaconda3/lib/python3.7/multiprocessing/synchronize.py\", line 95, in __enter__\n",
      "    return self._semlock.__enter__()\n",
      "KeyboardInterrupt\n",
      "  File \"/Users/yimingzhang/anaconda3/lib/python3.7/multiprocessing/synchronize.py\", line 95, in __enter__\n",
      "    return self._semlock.__enter__()\n",
      "KeyboardInterrupt\n",
      "  File \"/Users/yimingzhang/anaconda3/lib/python3.7/multiprocessing/synchronize.py\", line 95, in __enter__\n",
      "    return self._semlock.__enter__()\n",
      "  File \"/Users/yimingzhang/anaconda3/lib/python3.7/multiprocessing/synchronize.py\", line 95, in __enter__\n",
      "    return self._semlock.__enter__()\n",
      "KeyboardInterrupt\n",
      "  File \"/Users/yimingzhang/anaconda3/lib/python3.7/multiprocessing/connection.py\", line 216, in recv_bytes\n",
      "    buf = self._recv_bytes(maxlength)\n",
      "KeyboardInterrupt\n",
      "KeyboardInterrupt\n",
      "KeyboardInterrupt\n",
      "KeyboardInterrupt\n",
      "KeyboardInterrupt\n",
      "KeyboardInterrupt\n",
      "  File \"/Users/yimingzhang/anaconda3/lib/python3.7/multiprocessing/connection.py\", line 407, in _recv_bytes\n",
      "    buf = self._recv(4)\n",
      "  File \"/Users/yimingzhang/anaconda3/lib/python3.7/multiprocessing/connection.py\", line 379, in _recv\n",
      "    chunk = read(handle, remaining)\n",
      "KeyboardInterrupt\n",
      "Process ForkPoolWorker-10302:\n",
      "Process ForkPoolWorker-10303:\n",
      "Process ForkPoolWorker-10304:\n",
      "Process ForkPoolWorker-10306:\n",
      "Process ForkPoolWorker-10308:\n",
      "Process ForkPoolWorker-10307:\n",
      "Process ForkPoolWorker-10305:\n",
      "Traceback (most recent call last):\n",
      "Traceback (most recent call last):\n",
      "Traceback (most recent call last):\n",
      "Traceback (most recent call last):\n",
      "Traceback (most recent call last):\n",
      "Traceback (most recent call last):\n",
      "Traceback (most recent call last):\n",
      "  File \"/Users/yimingzhang/anaconda3/lib/python3.7/multiprocessing/process.py\", line 297, in _bootstrap\n",
      "    self.run()\n",
      "  File \"/Users/yimingzhang/anaconda3/lib/python3.7/multiprocessing/process.py\", line 297, in _bootstrap\n",
      "    self.run()\n",
      "  File \"/Users/yimingzhang/anaconda3/lib/python3.7/multiprocessing/process.py\", line 297, in _bootstrap\n",
      "    self.run()\n",
      "  File \"/Users/yimingzhang/anaconda3/lib/python3.7/multiprocessing/process.py\", line 297, in _bootstrap\n",
      "    self.run()\n",
      "  File \"/Users/yimingzhang/anaconda3/lib/python3.7/multiprocessing/process.py\", line 297, in _bootstrap\n",
      "    self.run()\n",
      "  File \"/Users/yimingzhang/anaconda3/lib/python3.7/multiprocessing/process.py\", line 297, in _bootstrap\n",
      "    self.run()\n",
      "  File \"/Users/yimingzhang/anaconda3/lib/python3.7/multiprocessing/process.py\", line 297, in _bootstrap\n",
      "    self.run()\n",
      "  File \"/Users/yimingzhang/anaconda3/lib/python3.7/multiprocessing/process.py\", line 99, in run\n",
      "    self._target(*self._args, **self._kwargs)\n",
      "  File \"/Users/yimingzhang/anaconda3/lib/python3.7/multiprocessing/process.py\", line 99, in run\n",
      "    self._target(*self._args, **self._kwargs)\n",
      "  File \"/Users/yimingzhang/anaconda3/lib/python3.7/multiprocessing/process.py\", line 99, in run\n",
      "    self._target(*self._args, **self._kwargs)\n",
      "  File \"/Users/yimingzhang/anaconda3/lib/python3.7/multiprocessing/process.py\", line 99, in run\n",
      "    self._target(*self._args, **self._kwargs)\n",
      "  File \"/Users/yimingzhang/anaconda3/lib/python3.7/multiprocessing/process.py\", line 99, in run\n",
      "    self._target(*self._args, **self._kwargs)\n",
      "  File \"/Users/yimingzhang/anaconda3/lib/python3.7/multiprocessing/process.py\", line 99, in run\n",
      "    self._target(*self._args, **self._kwargs)\n",
      "  File \"/Users/yimingzhang/anaconda3/lib/python3.7/multiprocessing/pool.py\", line 110, in worker\n",
      "    task = get()\n",
      "  File \"/Users/yimingzhang/anaconda3/lib/python3.7/multiprocessing/pool.py\", line 110, in worker\n",
      "    task = get()\n",
      "  File \"/Users/yimingzhang/anaconda3/lib/python3.7/multiprocessing/process.py\", line 99, in run\n",
      "    self._target(*self._args, **self._kwargs)\n",
      "  File \"/Users/yimingzhang/anaconda3/lib/python3.7/multiprocessing/pool.py\", line 110, in worker\n",
      "    task = get()\n",
      "  File \"/Users/yimingzhang/anaconda3/lib/python3.7/multiprocessing/pool.py\", line 110, in worker\n",
      "    task = get()\n",
      "  File \"/Users/yimingzhang/anaconda3/lib/python3.7/multiprocessing/pool.py\", line 110, in worker\n",
      "    task = get()\n",
      "  File \"/Users/yimingzhang/anaconda3/lib/python3.7/multiprocessing/pool.py\", line 110, in worker\n",
      "    task = get()\n",
      "  File \"/Users/yimingzhang/anaconda3/lib/python3.7/multiprocessing/queues.py\", line 351, in get\n",
      "    with self._rlock:\n",
      "  File \"/Users/yimingzhang/anaconda3/lib/python3.7/multiprocessing/queues.py\", line 351, in get\n",
      "    with self._rlock:\n",
      "  File \"/Users/yimingzhang/anaconda3/lib/python3.7/multiprocessing/pool.py\", line 110, in worker\n",
      "    task = get()\n",
      "  File \"/Users/yimingzhang/anaconda3/lib/python3.7/multiprocessing/queues.py\", line 351, in get\n",
      "    with self._rlock:\n",
      "  File \"/Users/yimingzhang/anaconda3/lib/python3.7/multiprocessing/queues.py\", line 352, in get\n",
      "    res = self._reader.recv_bytes()\n",
      "  File \"/Users/yimingzhang/anaconda3/lib/python3.7/multiprocessing/queues.py\", line 351, in get\n",
      "    with self._rlock:\n",
      "  File \"/Users/yimingzhang/anaconda3/lib/python3.7/multiprocessing/synchronize.py\", line 95, in __enter__\n",
      "    return self._semlock.__enter__()\n",
      "  File \"/Users/yimingzhang/anaconda3/lib/python3.7/multiprocessing/queues.py\", line 351, in get\n",
      "    with self._rlock:\n",
      "  File \"/Users/yimingzhang/anaconda3/lib/python3.7/multiprocessing/synchronize.py\", line 95, in __enter__\n",
      "    return self._semlock.__enter__()\n",
      "  File \"/Users/yimingzhang/anaconda3/lib/python3.7/multiprocessing/queues.py\", line 351, in get\n",
      "    with self._rlock:\n",
      "  File \"/Users/yimingzhang/anaconda3/lib/python3.7/multiprocessing/connection.py\", line 216, in recv_bytes\n",
      "    buf = self._recv_bytes(maxlength)\n",
      "  File \"/Users/yimingzhang/anaconda3/lib/python3.7/multiprocessing/synchronize.py\", line 95, in __enter__\n",
      "    return self._semlock.__enter__()\n",
      "  File \"/Users/yimingzhang/anaconda3/lib/python3.7/multiprocessing/synchronize.py\", line 95, in __enter__\n",
      "    return self._semlock.__enter__()\n",
      "  File \"/Users/yimingzhang/anaconda3/lib/python3.7/multiprocessing/synchronize.py\", line 95, in __enter__\n",
      "    return self._semlock.__enter__()\n",
      "KeyboardInterrupt\n",
      "  File \"/Users/yimingzhang/anaconda3/lib/python3.7/multiprocessing/synchronize.py\", line 95, in __enter__\n",
      "    return self._semlock.__enter__()\n",
      "KeyboardInterrupt\n",
      "  File \"/Users/yimingzhang/anaconda3/lib/python3.7/multiprocessing/connection.py\", line 407, in _recv_bytes\n",
      "    buf = self._recv(4)\n",
      "KeyboardInterrupt\n",
      "KeyboardInterrupt\n",
      "KeyboardInterrupt\n",
      "KeyboardInterrupt\n",
      "  File \"/Users/yimingzhang/anaconda3/lib/python3.7/multiprocessing/connection.py\", line 379, in _recv\n",
      "    chunk = read(handle, remaining)\n",
      "KeyboardInterrupt\n"
     ]
    }
   ],
   "source": [
    "BD5.BiCEP_fit(model=BiCEP.model_circle_fast)\n",
    "#This cell may generate warnings from the internal pystan code. \n",
    "#The main error to watch for is one about R_hat, which indicates the sampler hasn't converged, a \"bad\" run"
   ]
  },
  {
   "cell_type": "code",
   "execution_count": null,
   "id": "1d38e359-bb37-4cad-87fe-dc5ee0eeca00",
   "metadata": {
    "ExecuteTime": {
     "end_time": "2021-05-15T15:41:11.894423Z",
     "start_time": "2021-05-15T15:41:11.060541Z"
    }
   },
   "outputs": [],
   "source": [
    "#set up subplots\n",
    "fig,ax=plt.subplots(1,2,figsize=(12,4))\n",
    "#Plot our plot of the BiCEP fit.\n",
    "BD5.regplot(ax[0])\n",
    "# ax[0].set_xlim(1.,1.6)\n",
    "# ax[0].set_ylim(0,20)\n",
    "ax[0].set_ylabel('$B_{anc}$ ($\\mu$T)')\n",
    "#Plot our histogram\n",
    "BD5.histplot(ax[1])\n",
    "# ax[1].set_xlim(0, 100)\n",
    "fig.suptitle('BD5 estiamtes');"
   ]
  },
  {
   "cell_type": "markdown",
   "id": "86770c91-b6fa-4264-9705-26f74091b14a",
   "metadata": {
    "tags": []
   },
   "source": [
    "### BD6"
   ]
  },
  {
   "cell_type": "code",
   "execution_count": null,
   "id": "d504dc58-c40b-46ce-bf40-f928cc099ffa",
   "metadata": {
    "ExecuteTime": {
     "end_time": "2021-06-10T18:53:27.580558Z",
     "start_time": "2021-06-10T18:53:04.818682Z"
    }
   },
   "outputs": [],
   "source": [
    "BD6.BiCEP_fit(model=BiCEP.model_circle_fast)\n",
    "#This cell may generate warnings from the internal pystan code. \n",
    "#The main error to watch for is one about R_hat, which indicates the sampler hasn't converged, a \"bad\" run"
   ]
  },
  {
   "cell_type": "code",
   "execution_count": null,
   "id": "0e739362-d23b-4a9c-b65f-2585c2daf65f",
   "metadata": {
    "ExecuteTime": {
     "end_time": "2021-05-15T15:41:11.894423Z",
     "start_time": "2021-05-15T15:41:11.060541Z"
    }
   },
   "outputs": [],
   "source": [
    "#set up subplots\n",
    "fig,ax=plt.subplots(1,2,figsize=(12,4))\n",
    "#Plot our plot of the BiCEP fit.\n",
    "BD6.regplot(ax[0])\n",
    "# ax[0].set_xlim(1.,1.6)\n",
    "# ax[0].set_ylim(0,20)\n",
    "ax[0].set_ylabel('$B_{anc}$ ($\\mu$T)')\n",
    "#Plot our histogram\n",
    "BD6.histplot(ax[1])\n",
    "# ax[1].set_xlim(0, 100)\n",
    "fig.suptitle('BD6 estiamtes');"
   ]
  },
  {
   "cell_type": "markdown",
   "id": "435ae80d-0dcf-489f-997e-ee7292d969bf",
   "metadata": {},
   "source": [
    "### BD7"
   ]
  },
  {
   "cell_type": "code",
   "execution_count": null,
   "id": "dc9725dd-b0cf-46aa-89af-4747db58ea6c",
   "metadata": {
    "ExecuteTime": {
     "end_time": "2021-06-10T18:53:27.580558Z",
     "start_time": "2021-06-10T18:53:04.818682Z"
    }
   },
   "outputs": [],
   "source": [
    "BD7.BiCEP_fit(model=BiCEP.model_circle_fast)\n",
    "#This cell may generate warnings from the internal pystan code. \n",
    "#The main error to watch for is one about R_hat, which indicates the sampler hasn't converged, a \"bad\" run"
   ]
  },
  {
   "cell_type": "code",
   "execution_count": null,
   "id": "0a77504c-ee09-4fd9-8231-d2da084339ed",
   "metadata": {
    "ExecuteTime": {
     "end_time": "2021-05-15T15:41:11.894423Z",
     "start_time": "2021-05-15T15:41:11.060541Z"
    }
   },
   "outputs": [],
   "source": [
    "#set up subplots\n",
    "fig,ax=plt.subplots(1,2,figsize=(12,4))\n",
    "#Plot our plot of the BiCEP fit.\n",
    "BD7.regplot(ax[0])\n",
    "# ax[0].set_xlim(1.,1.6)\n",
    "# ax[0].set_ylim(0,20)\n",
    "ax[0].set_ylabel('$B_{anc}$ ($\\mu$T)')\n",
    "#Plot our histogram\n",
    "BD7.histplot(ax[1])\n",
    "# ax[1].set_xlim(0, 100)\n",
    "fig.suptitle('BD7 estiamtes');"
   ]
  },
  {
   "cell_type": "markdown",
   "id": "53327a25-b171-40e6-98cf-4e6610d911ab",
   "metadata": {},
   "source": [
    "### BD8"
   ]
  },
  {
   "cell_type": "code",
   "execution_count": null,
   "id": "ddff49f1-18f8-4924-a201-7be1f0e1801c",
   "metadata": {
    "ExecuteTime": {
     "end_time": "2021-06-10T18:53:27.580558Z",
     "start_time": "2021-06-10T18:53:04.818682Z"
    }
   },
   "outputs": [],
   "source": [
    "BD8.BiCEP_fit(model=BiCEP.model_circle_fast)\n",
    "#This cell may generate warnings from the internal pystan code. \n",
    "#The main error to watch for is one about R_hat, which indicates the sampler hasn't converged, a \"bad\" run"
   ]
  },
  {
   "cell_type": "code",
   "execution_count": null,
   "id": "f4b8a4c4-d95c-46eb-b5b7-6c55cdee43d6",
   "metadata": {
    "ExecuteTime": {
     "end_time": "2021-05-15T15:41:11.894423Z",
     "start_time": "2021-05-15T15:41:11.060541Z"
    }
   },
   "outputs": [],
   "source": [
    "#set up subplots\n",
    "fig,ax=plt.subplots(1,2,figsize=(12,4))\n",
    "#Plot our plot of the BiCEP fit.\n",
    "BD8.regplot(ax[0])\n",
    "# ax[0].set_xlim(1.,1.6)\n",
    "# ax[0].set_ylim(0,20)\n",
    "ax[0].set_ylabel('$B_{anc}$ ($\\mu$T)')\n",
    "#Plot our histogram\n",
    "BD8.histplot(ax[1])\n",
    "# ax[1].set_xlim(0, 100)\n",
    "fig.suptitle('BD8 estiamtes');"
   ]
  },
  {
   "cell_type": "markdown",
   "id": "ecc1d251-99fe-4b39-896d-5e1ff9dcb788",
   "metadata": {},
   "source": [
    "### BD9"
   ]
  },
  {
   "cell_type": "code",
   "execution_count": null,
   "id": "6ffb833d-a366-4462-b4b2-dc22573e9c65",
   "metadata": {
    "ExecuteTime": {
     "end_time": "2021-06-10T18:53:27.580558Z",
     "start_time": "2021-06-10T18:53:04.818682Z"
    }
   },
   "outputs": [],
   "source": [
    "BD9.BiCEP_fit(model=BiCEP.model_circle_fast)\n",
    "#This cell may generate warnings from the internal pystan code. \n",
    "#The main error to watch for is one about R_hat, which indicates the sampler hasn't converged, a \"bad\" run"
   ]
  },
  {
   "cell_type": "code",
   "execution_count": null,
   "id": "a4f08340-caeb-413f-a2d9-d0d26e252044",
   "metadata": {
    "ExecuteTime": {
     "end_time": "2021-05-15T15:41:11.894423Z",
     "start_time": "2021-05-15T15:41:11.060541Z"
    }
   },
   "outputs": [],
   "source": [
    "#set up subplots\n",
    "fig,ax=plt.subplots(1,2,figsize=(12,4))\n",
    "#Plot our plot of the BiCEP fit.\n",
    "BD9.regplot(ax[0])\n",
    "# ax[0].set_xlim(1.,1.6)\n",
    "# ax[0].set_ylim(0,20)\n",
    "ax[0].set_ylabel('$B_{anc}$ ($\\mu$T)')\n",
    "#Plot our histogram\n",
    "BD9.histplot(ax[1])\n",
    "# ax[1].set_xlim(0, 100)\n",
    "fig.suptitle('BD9 estiamtes');"
   ]
  },
  {
   "cell_type": "code",
   "execution_count": null,
   "id": "1f721e26-8d14-4228-9498-d255d52efa24",
   "metadata": {},
   "outputs": [],
   "source": []
  },
  {
   "cell_type": "code",
   "execution_count": null,
   "id": "9c9ed5cb-4d06-47c3-8a25-16d7f4d21101",
   "metadata": {},
   "outputs": [],
   "source": []
  },
  {
   "cell_type": "code",
   "execution_count": null,
   "id": "fcb885c4-e565-4d29-82ba-b9a804249f79",
   "metadata": {},
   "outputs": [],
   "source": []
  }
 ],
 "metadata": {
  "kernelspec": {
   "display_name": "Python 3",
   "language": "python",
   "name": "python3"
  },
  "language_info": {
   "codemirror_mode": {
    "name": "ipython",
    "version": 3
   },
   "file_extension": ".py",
   "mimetype": "text/x-python",
   "name": "python",
   "nbconvert_exporter": "python",
   "pygments_lexer": "ipython3",
   "version": "3.7.6"
  }
 },
 "nbformat": 4,
 "nbformat_minor": 5
}
