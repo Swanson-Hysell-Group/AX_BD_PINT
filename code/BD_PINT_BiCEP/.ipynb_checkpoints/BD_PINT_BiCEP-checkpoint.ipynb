{
 "cells": [
  {
   "cell_type": "markdown",
   "id": "1bfef945-895c-467a-a816-029901ad0e75",
   "metadata": {},
   "source": [
    "# This notebook includes paleointensity result analyses using the Bias Corrected Estimation of Paleointensity (BiCEP) method\n",
    "\n"
   ]
  },
  {
   "cell_type": "code",
   "execution_count": 24,
   "id": "f017f5dd-0cfb-437c-a0e5-426561f71f50",
   "metadata": {
    "ExecuteTime": {
     "end_time": "2021-06-10T18:45:25.948008Z",
     "start_time": "2021-06-10T18:45:25.281746Z"
    }
   },
   "outputs": [],
   "source": [
    "import pandas as pd\n",
    "import matplotlib.pyplot as plt\n",
    "import pickle\n",
    "%matplotlib inline\n",
    "from IPython.display import Image"
   ]
  },
  {
   "cell_type": "code",
   "execution_count": 4,
   "id": "4d8daf0f-531d-4937-8b91-c6378e6ff0fe",
   "metadata": {
    "ExecuteTime": {
     "end_time": "2021-06-10T18:45:28.361325Z",
     "start_time": "2021-06-10T18:45:26.352622Z"
    }
   },
   "outputs": [],
   "source": [
    "import sys\n",
    "sys.path.append('modules_and_scripts/') \n",
    "#The BiCEP_functions library imports all other needed libraries\n",
    "import BiCEP_functions as BiCEP"
   ]
  },
  {
   "cell_type": "markdown",
   "id": "8d2dd7ef-3188-40eb-a788-7a8b79507b03",
   "metadata": {},
   "source": [
    "## Generate Arai plot table for AX PINT results"
   ]
  },
  {
   "cell_type": "code",
   "execution_count": 3,
   "id": "77bbfde0-07a8-4a48-8328-38abb6144dc5",
   "metadata": {
    "ExecuteTime": {
     "end_time": "2021-06-10T18:45:41.895385Z",
     "start_time": "2021-06-10T18:45:29.995245Z"
    }
   },
   "outputs": [
    {
     "name": "stdout",
     "output_type": "stream",
     "text": [
      "-I- Using online data model\n",
      "-I- Getting method codes from earthref.org\n",
      "-I- Importing controlled vocabularies from https://earthref.org\n",
      "Working on: AX1-1a\n",
      "Working on: AX1-2a\n",
      "Working on: AX1-3a\n",
      "Working on: AX10-1a\n",
      "Working on: AX11-1a\n",
      "Working on: AX11-2a\n",
      "Working on: AX11-3a\n",
      "Working on: AX12-1a\n",
      "Working on: AX12-2a\n",
      "Working on: AX12-4a\n",
      "Working on: AX13-2a\n",
      "Working on: AX13-3a\n",
      "Working on: AX13-4a\n",
      "Working on: AX15-1a\n",
      "Working on: AX15-2a\n",
      "Working on: AX15-3a\n",
      "Working on: AX16-1a\n",
      "Working on: AX16-2a\n",
      "Working on: AX16-4a\n",
      "Working on: AX3-3a\n",
      "Working on: AX3-4a\n",
      "Working on: AX3-6a\n",
      "Working on: AX5-2a\n",
      "Working on: AX5-3a\n",
      "Working on: AX7-1a\n",
      "Working on: AX7-2a\n",
      "Working on: AX7-3a\n",
      "Working on: AX9-1a\n",
      "Working on: AX1-4a\n",
      "Working on: AX1-5a\n",
      "Working on: AX1-7a\n",
      "Working on: AX10-2a\n",
      "Working on: AX10-3a\n",
      "Working on: AX11-4a\n",
      "Working on: AX11-5a\n",
      "Working on: AX11-6a\n",
      "Working on: AX11-9a\n",
      "Working on: AX12-10a\n",
      "Working on: AX12-11a\n",
      "Working on: AX12-12a\n",
      "Working on: AX12-13a\n",
      "Working on: AX12-14a\n",
      "Working on: AX12-15a\n",
      "Working on: AX12-5a\n",
      "Working on: AX12-6a\n",
      "Working on: AX12-7a\n",
      "Working on: AX12-8a\n",
      "Working on: AX12-9a\n",
      "Working on: AX13-6a\n",
      "Working on: AX13-7a\n",
      "Working on: AX13-8a\n",
      "Working on: AX13-9a\n",
      "Working on: AX15-6a\n",
      "Working on: AX15-7a\n",
      "Working on: AX15-8a\n",
      "Working on: AX16-10a\n",
      "Working on: AX16-11a\n",
      "Working on: AX16-12a\n",
      "Working on: AX16-13a\n",
      "Working on: AX16-14a\n",
      "Working on: AX16-15a\n",
      "Working on: AX16-16a\n",
      "Working on: AX16-5a\n",
      "Working on: AX16-6a\n",
      "Working on: AX16-7a\n",
      "Working on: AX16-8a\n",
      "Working on: AX16-9a\n",
      "Working on: AX22-10b\n",
      "Working on: AX22-1b\n",
      "Working on: AX22-2b\n",
      "Working on: AX22-3b\n",
      "Working on: AX22-4b\n",
      "Working on: AX22-5b\n",
      "Working on: AX22-6b\n",
      "Working on: AX22-7b\n",
      "Working on: AX22-8b\n",
      "Working on: AX22-9b\n",
      "Working on: AX3-7a\n",
      "Working on: AX3-8a\n",
      "Working on: AX3-9a\n",
      "Working on: AX6-1a\n",
      "Working on: AX6-2a\n",
      "Working on: AX6-3a\n",
      "Working on: AX8-1a\n",
      "Working on: AX8-2a\n",
      "Working on: AX8-3a\n",
      "Couldn't find Anisotropy Tensors, Generating...\n",
      "-E- No measurement records found with code LP-AN-TRM\n",
      "-E- No measurement records found with code LP-AN-ARM\n"
     ]
    }
   ],
   "source": [
    "BiCEP.generate_arai_plot_table('BD_all')"
   ]
  },
  {
   "cell_type": "code",
   "execution_count": 4,
   "id": "00dbe76c-3b89-44b2-9564-4375831eb91c",
   "metadata": {
    "ExecuteTime": {
     "end_time": "2021-06-10T18:49:29.553630Z",
     "start_time": "2021-06-10T18:49:25.943686Z"
    }
   },
   "outputs": [
    {
     "name": "stdout",
     "output_type": "stream",
     "text": [
      "Set of Thellier Data Containing the Sites:\n",
      "AX1\t(6 specimens)\n",
      "AX10\t(3 specimens)\n",
      "AX11\t(7 specimens)\n",
      "AX12\t(14 specimens)\n",
      "AX13\t(7 specimens)\n",
      "AX15\t(6 specimens)\n",
      "AX16\t(15 specimens)\n",
      "AX3\t(6 specimens)\n",
      "AX5\t(2 specimens)\n",
      "AX7\t(3 specimens)\n",
      "AX9\t(1 specimens)\n",
      "AX22\t(10 specimens)\n",
      "AX6\t(3 specimens)\n",
      "AX8\t(3 specimens)\n",
      "\n"
     ]
    }
   ],
   "source": [
    "data=BiCEP.ThellierData('BD_all.csv')\n",
    "print(data)"
   ]
  },
  {
   "cell_type": "markdown",
   "id": "177492e4-d709-474c-b7d3-38891db9694c",
   "metadata": {},
   "source": [
    "# Data processing and analysis"
   ]
  },
  {
   "cell_type": "markdown",
   "id": "b3582852-e4c2-46f9-98c7-369d78c4bef8",
   "metadata": {
    "tags": []
   },
   "source": [
    "### Looking at site and specimen data"
   ]
  },
  {
   "cell_type": "code",
   "execution_count": 5,
   "id": "3f411da0-199e-41f0-abe9-209a9948aab3",
   "metadata": {
    "ExecuteTime": {
     "end_time": "2021-06-10T18:49:29.564405Z",
     "start_time": "2021-06-10T18:49:29.561914Z"
    }
   },
   "outputs": [],
   "source": [
    "BD1=data['AX1']\n",
    "BD2=data['AX3']\n",
    "BD5=data['AX5']\n",
    "BD6=data['AX6']\n",
    "BD7=data['AX7']\n",
    "BD8=data['AX8']\n",
    "BD9=data['AX9']"
   ]
  },
  {
   "cell_type": "markdown",
   "id": "78411bd4-e6d9-4123-b915-08aa142622e1",
   "metadata": {},
   "source": [
    "## The BiCEP method- accounting for bias"
   ]
  },
  {
   "cell_type": "markdown",
   "id": "deb9269c-5216-432a-9d5b-21c83c566156",
   "metadata": {
    "tags": []
   },
   "source": [
    "### BD1"
   ]
  },
  {
   "cell_type": "code",
   "execution_count": null,
   "id": "645e76ab-d7f7-4670-b27a-27da4bdb3f12",
   "metadata": {
    "ExecuteTime": {
     "end_time": "2021-06-10T18:53:27.580558Z",
     "start_time": "2021-06-10T18:53:04.818682Z"
    }
   },
   "outputs": [],
   "source": [
    "BD1.BiCEP_fit(model=BiCEP.model_circle_fast)\n",
    "#This cell may generate warnings from the internal pystan code. \n",
    "#The main error to watch for is one about R_hat, which indicates the sampler hasn't converged, a \"bad\" run"
   ]
  },
  {
   "cell_type": "code",
   "execution_count": null,
   "id": "e547981d-4a0e-4c2d-89a5-9abd00813cdb",
   "metadata": {
    "ExecuteTime": {
     "end_time": "2021-05-15T15:41:11.894423Z",
     "start_time": "2021-05-15T15:41:11.060541Z"
    }
   },
   "outputs": [],
   "source": [
    "#set up subplots\n",
    "fig,ax=plt.subplots(1,2,figsize=(12,4))\n",
    "#Plot our plot of the BiCEP fit.\n",
    "BD1.regplot(ax[0])\n",
    "ax[0].set_xlim(1.,1.6)\n",
    "ax[0].set_ylim(0,20);\n",
    "ax[0].set_ylabel('$B_{anc}$ ($\\mu$T)')\n",
    "#Plot our histogram\n",
    "BD1.histplot(ax[1]);\n",
    "ax[1].set_xlim(0, 100)\n",
    "fig.suptitle('BD1 estiamtes');"
   ]
  },
  {
   "cell_type": "markdown",
   "id": "832f206c-8f79-474a-988e-f5f08b7dac5b",
   "metadata": {},
   "source": [
    "### BD2"
   ]
  },
  {
   "cell_type": "code",
   "execution_count": null,
   "id": "4ac1d883-2991-4754-a54d-62404ec6bf6a",
   "metadata": {
    "ExecuteTime": {
     "end_time": "2021-06-10T18:53:27.580558Z",
     "start_time": "2021-06-10T18:53:04.818682Z"
    }
   },
   "outputs": [],
   "source": [
    "BD2.BiCEP_fit(model=BiCEP.model_circle_fast)\n",
    "#This cell may generate warnings from the internal pystan code. \n",
    "#The main error to watch for is one about R_hat, which indicates the sampler hasn't converged, a \"bad\" run"
   ]
  },
  {
   "cell_type": "code",
   "execution_count": null,
   "id": "319265de-5831-45d0-a5c2-f95467d4b126",
   "metadata": {
    "ExecuteTime": {
     "end_time": "2021-05-15T15:41:11.894423Z",
     "start_time": "2021-05-15T15:41:11.060541Z"
    }
   },
   "outputs": [],
   "source": [
    "#set up subplots\n",
    "fig,ax=plt.subplots(1,2,figsize=(12,4))\n",
    "#Plot our plot of the BiCEP fit.\n",
    "BD2.regplot(ax[0])\n",
    "ax[0].set_xlim(1.,1.6)\n",
    "ax[0].set_ylim(0,20);\n",
    "ax[0].set_ylabel('$B_{anc}$ ($\\mu$T)')\n",
    "#Plot our histogram\n",
    "BD2.histplot(ax[1]);\n",
    "ax[1].set_xlim(0, 100)\n",
    "fig.suptitle('BD2 estiamtes');"
   ]
  },
  {
   "cell_type": "markdown",
   "id": "fbcfbe78-beb0-4df9-ba3a-17fdf93cc294",
   "metadata": {
    "tags": []
   },
   "source": [
    "### BD5"
   ]
  },
  {
   "cell_type": "code",
   "execution_count": null,
   "id": "ecc9e3c6-932e-4f3d-839f-ca5441837f62",
   "metadata": {
    "ExecuteTime": {
     "end_time": "2021-06-10T18:53:27.580558Z",
     "start_time": "2021-06-10T18:53:04.818682Z"
    }
   },
   "outputs": [],
   "source": [
    "BD5.BiCEP_fit(model=BiCEP.model_circle_fast)\n",
    "#This cell may generate warnings from the internal pystan code. \n",
    "#The main error to watch for is one about R_hat, which indicates the sampler hasn't converged, a \"bad\" run"
   ]
  },
  {
   "cell_type": "code",
   "execution_count": null,
   "id": "1d38e359-bb37-4cad-87fe-dc5ee0eeca00",
   "metadata": {
    "ExecuteTime": {
     "end_time": "2021-05-15T15:41:11.894423Z",
     "start_time": "2021-05-15T15:41:11.060541Z"
    }
   },
   "outputs": [],
   "source": [
    "#set up subplots\n",
    "fig,ax=plt.subplots(1,2,figsize=(12,4))\n",
    "#Plot our plot of the BiCEP fit.\n",
    "BD5.regplot(ax[0])\n",
    "ax[0].set_xlim(1.,1.6)\n",
    "ax[0].set_ylim(0,20);\n",
    "ax[0].set_ylabel('$B_{anc}$ ($\\mu$T)')\n",
    "#Plot our histogram\n",
    "BD5.histplot(ax[1]);\n",
    "ax[1].set_xlim(0, 100)\n",
    "fig.suptitle('BD5 estiamtes');"
   ]
  },
  {
   "cell_type": "markdown",
   "id": "86770c91-b6fa-4264-9705-26f74091b14a",
   "metadata": {
    "tags": []
   },
   "source": [
    "### BD6"
   ]
  },
  {
   "cell_type": "code",
   "execution_count": null,
   "id": "d504dc58-c40b-46ce-bf40-f928cc099ffa",
   "metadata": {
    "ExecuteTime": {
     "end_time": "2021-06-10T18:53:27.580558Z",
     "start_time": "2021-06-10T18:53:04.818682Z"
    }
   },
   "outputs": [],
   "source": [
    "BD6.BiCEP_fit(model=BiCEP.model_circle_fast)\n",
    "#This cell may generate warnings from the internal pystan code. \n",
    "#The main error to watch for is one about R_hat, which indicates the sampler hasn't converged, a \"bad\" run"
   ]
  },
  {
   "cell_type": "code",
   "execution_count": null,
   "id": "0e739362-d23b-4a9c-b65f-2585c2daf65f",
   "metadata": {
    "ExecuteTime": {
     "end_time": "2021-05-15T15:41:11.894423Z",
     "start_time": "2021-05-15T15:41:11.060541Z"
    }
   },
   "outputs": [],
   "source": [
    "#set up subplots\n",
    "fig,ax=plt.subplots(1,2,figsize=(12,4))\n",
    "#Plot our plot of the BiCEP fit.\n",
    "BD6.regplot(ax[0])\n",
    "ax[0].set_xlim(1.,1.6)\n",
    "ax[0].set_ylim(0,20);\n",
    "ax[0].set_ylabel('$B_{anc}$ ($\\mu$T)')\n",
    "#Plot our histogram\n",
    "BD6.histplot(ax[1]);\n",
    "ax[1].set_xlim(0, 100)\n",
    "fig.suptitle('BD6 estiamtes');"
   ]
  },
  {
   "cell_type": "markdown",
   "id": "435ae80d-0dcf-489f-997e-ee7292d969bf",
   "metadata": {},
   "source": [
    "### BD7"
   ]
  },
  {
   "cell_type": "code",
   "execution_count": null,
   "id": "dc9725dd-b0cf-46aa-89af-4747db58ea6c",
   "metadata": {
    "ExecuteTime": {
     "end_time": "2021-06-10T18:53:27.580558Z",
     "start_time": "2021-06-10T18:53:04.818682Z"
    }
   },
   "outputs": [],
   "source": [
    "BD7.BiCEP_fit(model=BiCEP.model_circle_fast)\n",
    "#This cell may generate warnings from the internal pystan code. \n",
    "#The main error to watch for is one about R_hat, which indicates the sampler hasn't converged, a \"bad\" run"
   ]
  },
  {
   "cell_type": "code",
   "execution_count": null,
   "id": "0a77504c-ee09-4fd9-8231-d2da084339ed",
   "metadata": {
    "ExecuteTime": {
     "end_time": "2021-05-15T15:41:11.894423Z",
     "start_time": "2021-05-15T15:41:11.060541Z"
    }
   },
   "outputs": [],
   "source": [
    "#set up subplots\n",
    "fig,ax=plt.subplots(1,2,figsize=(12,4))\n",
    "#Plot our plot of the BiCEP fit.\n",
    "BD7.regplot(ax[0])\n",
    "ax[0].set_xlim(1.,1.6)\n",
    "ax[0].set_ylim(0,20);\n",
    "ax[0].set_ylabel('$B_{anc}$ ($\\mu$T)')\n",
    "#Plot our histogram\n",
    "BD7.histplot(ax[1]);\n",
    "ax[1].set_xlim(0, 100)\n",
    "fig.suptitle('BD7 estiamtes');"
   ]
  },
  {
   "cell_type": "markdown",
   "id": "53327a25-b171-40e6-98cf-4e6610d911ab",
   "metadata": {},
   "source": [
    "### BD8"
   ]
  },
  {
   "cell_type": "code",
   "execution_count": null,
   "id": "ddff49f1-18f8-4924-a201-7be1f0e1801c",
   "metadata": {
    "ExecuteTime": {
     "end_time": "2021-06-10T18:53:27.580558Z",
     "start_time": "2021-06-10T18:53:04.818682Z"
    }
   },
   "outputs": [],
   "source": [
    "BD8.BiCEP_fit(model=BiCEP.model_circle_fast)\n",
    "#This cell may generate warnings from the internal pystan code. \n",
    "#The main error to watch for is one about R_hat, which indicates the sampler hasn't converged, a \"bad\" run"
   ]
  },
  {
   "cell_type": "code",
   "execution_count": null,
   "id": "f4b8a4c4-d95c-46eb-b5b7-6c55cdee43d6",
   "metadata": {
    "ExecuteTime": {
     "end_time": "2021-05-15T15:41:11.894423Z",
     "start_time": "2021-05-15T15:41:11.060541Z"
    }
   },
   "outputs": [],
   "source": [
    "#set up subplots\n",
    "fig,ax=plt.subplots(1,2,figsize=(12,4))\n",
    "#Plot our plot of the BiCEP fit.\n",
    "BD8.regplot(ax[0])\n",
    "ax[0].set_xlim(1.,1.6)\n",
    "ax[0].set_ylim(0,20);\n",
    "ax[0].set_ylabel('$B_{anc}$ ($\\mu$T)')\n",
    "#Plot our histogram\n",
    "BD8.histplot(ax[1]);\n",
    "ax[1].set_xlim(0, 100)\n",
    "fig.suptitle('BD8 estiamtes');"
   ]
  },
  {
   "cell_type": "markdown",
   "id": "ecc1d251-99fe-4b39-896d-5e1ff9dcb788",
   "metadata": {},
   "source": [
    "### BD9"
   ]
  },
  {
   "cell_type": "code",
   "execution_count": null,
   "id": "6ffb833d-a366-4462-b4b2-dc22573e9c65",
   "metadata": {
    "ExecuteTime": {
     "end_time": "2021-06-10T18:53:27.580558Z",
     "start_time": "2021-06-10T18:53:04.818682Z"
    }
   },
   "outputs": [],
   "source": [
    "BD9.BiCEP_fit(model=BiCEP.model_circle_fast)\n",
    "#This cell may generate warnings from the internal pystan code. \n",
    "#The main error to watch for is one about R_hat, which indicates the sampler hasn't converged, a \"bad\" run"
   ]
  },
  {
   "cell_type": "code",
   "execution_count": null,
   "id": "a4f08340-caeb-413f-a2d9-d0d26e252044",
   "metadata": {
    "ExecuteTime": {
     "end_time": "2021-05-15T15:41:11.894423Z",
     "start_time": "2021-05-15T15:41:11.060541Z"
    }
   },
   "outputs": [],
   "source": [
    "#set up subplots\n",
    "fig,ax=plt.subplots(1,2,figsize=(12,4))\n",
    "#Plot our plot of the BiCEP fit.\n",
    "BD9.regplot(ax[0])\n",
    "ax[0].set_xlim(1.,1.6)\n",
    "ax[0].set_ylim(0,20);\n",
    "ax[0].set_ylabel('$B_{anc}$ ($\\mu$T)')\n",
    "#Plot our histogram\n",
    "BD9.histplot(ax[1]);\n",
    "ax[1].set_xlim(0, 100)\n",
    "fig.suptitle('BD9 estiamtes');"
   ]
  },
  {
   "cell_type": "code",
   "execution_count": null,
   "id": "1f721e26-8d14-4228-9498-d255d52efa24",
   "metadata": {},
   "outputs": [],
   "source": []
  },
  {
   "cell_type": "code",
   "execution_count": null,
   "id": "9c9ed5cb-4d06-47c3-8a25-16d7f4d21101",
   "metadata": {},
   "outputs": [],
   "source": []
  },
  {
   "cell_type": "code",
   "execution_count": null,
   "id": "fcb885c4-e565-4d29-82ba-b9a804249f79",
   "metadata": {},
   "outputs": [],
   "source": []
  }
 ],
 "metadata": {
  "kernelspec": {
   "display_name": "Python 3",
   "language": "python",
   "name": "python3"
  },
  "language_info": {
   "codemirror_mode": {
    "name": "ipython",
    "version": 3
   },
   "file_extension": ".py",
   "mimetype": "text/x-python",
   "name": "python",
   "nbconvert_exporter": "python",
   "pygments_lexer": "ipython3",
   "version": "3.7.6"
  }
 },
 "nbformat": 4,
 "nbformat_minor": 5
}
