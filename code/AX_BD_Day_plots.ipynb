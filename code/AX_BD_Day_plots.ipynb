{
 "cells": [
  {
   "cell_type": "markdown",
   "metadata": {},
   "source": [
    "# Notebook for summary rock magnetic property analyses for the anorthosite and diabase on a Day plot\n",
    "\n",
    "- Day, R., Fuller, M., & Schmidt, V. A. (1977). Hysteresis properties of titanomagnetites: grain-size and compositional dependence. Physics of the Earth and planetary interiors, 13(4), 260-267."
   ]
  },
  {
   "cell_type": "code",
   "execution_count": 1,
   "metadata": {},
   "outputs": [],
   "source": [
    "import numpy as np\n",
    "import pandas as pd\n",
    "import matplotlib.pyplot as plt"
   ]
  },
  {
   "cell_type": "markdown",
   "metadata": {},
   "source": [
    "## Make Day plots"
   ]
  },
  {
   "cell_type": "code",
   "execution_count": 2,
   "metadata": {},
   "outputs": [],
   "source": [
    "# this function takes in four list, Ms, Mr, Bc, Bcr, and a color for color coding scatter plot\n",
    "def make_day_plot(Ms, Mr, Bc, Bcr, color = 'black', label = 'sample', figname = 'day_plot.pdf', savefig = False):\n",
    "    xlist = [[Bcr[i]/Bc[i] for i in range(len(Bc))]]\n",
    "    ylist = [[Mr[i]/Ms[i] for i in range(len(Ms))]]\n",
    "    \n",
    "    fig, ax = plt.subplots(figsize = (8,6))\n",
    "    \n",
    "    ax.scatter(xlist, ylist, color = color, label = label, zorder = 100)\n",
    "    # plotting SD, PSD, MD regions\n",
    "    ax.plot([0, 6], [0.05, 0.05], color = 'k')\n",
    "    ax.plot([0, 6], [0.5, 0.5], color = 'k')\n",
    "    ax.plot([1.5, 1.5], [0, 0.6], color = 'k')\n",
    "    ax.plot([4, 4], [0, 0.6], color = 'k')\n",
    "    \n",
    "    ax.set_xlabel('Hcr/Hc')\n",
    "    ax.set_ylabel('Mr/Ms')\n",
    "    ax.set_xlim(0, 6)\n",
    "    ax.set_ylim(0, 0.6)\n",
    "    ax.text(5, 0.02, 'MD')\n",
    "    ax.text(3, 0.45, 'PSD')\n",
    "    ax.text(0.75, 0.55, 'SD')\n",
    "    ax.set_title(str(label) +' Day plot', fontsize=15)\n",
    "    \n",
    "    if savefig:\n",
    "        plt.savefig('code_output/'+figname+'.pdf')\n",
    "        \n",
    "    return fig, ax"
   ]
  },
  {
   "cell_type": "markdown",
   "metadata": {},
   "source": [
    "## Load data file"
   ]
  },
  {
   "cell_type": "code",
   "execution_count": 3,
   "metadata": {},
   "outputs": [],
   "source": [
    "# Loading IRM data file\n",
    "rockmag_data = pd.ExcelFile('../Data/Rock_mag/2020_jan_IRM_export.xls')\n",
    "\n",
    "hysteresis_properties = pd.read_excel(rockmag_data, 'hysteresis properties')\n",
    "hysteresis_properties = hysteresis_properties.drop(0)"
   ]
  },
  {
   "cell_type": "markdown",
   "metadata": {},
   "source": [
    " Here we split the data files by paleintensity results: accepted vs. rejected\n",
    " \n",
    " We also filter out those specimens with B coercivity = 0, which is typical for noisy data sets."
   ]
  },
  {
   "cell_type": "code",
   "execution_count": 4,
   "metadata": {},
   "outputs": [],
   "source": [
    "AX_accepted_sites = ['AX6-1r', 'AX8-1r', 'AX10-3r', 'AX11-2r', 'AX12-6r', 'AX13-1r']\n",
    "AX_rejected_sites = ['AX1-1r', 'AX2-4r', 'AX5-1r', 'AX7-1r']\n",
    "\n",
    "BD_acceptd_sites = ['BD2-2r']\n",
    "\n",
    "AX_hysteresis_properties = hysteresis_properties[hysteresis_properties['specimen'].str.contains('AX') \n",
    "                                                 & hysteresis_properties['Bcr [mT]'] > 0]\n",
    "BD_hysteresis_properties = hysteresis_properties[hysteresis_properties['specimen'].str.contains('BD')]"
   ]
  },
  {
   "cell_type": "markdown",
   "metadata": {},
   "source": [
    "## Day plots"
   ]
  },
  {
   "cell_type": "code",
   "execution_count": 5,
   "metadata": {},
   "outputs": [
    {
     "data": {
      "image/png": "[encoded data removed]",
      "text/plain": [
       "<Figure size 576x432 with 1 Axes>"
      ]
     },
     "metadata": {
      "needs_background": "light"
     },
     "output_type": "display_data"
    }
   ],
   "source": [
    "AX_day_plot_fig, AX_day_plot_ax = make_day_plot(AX_hysteresis_properties.iloc[:,1].tolist(), \n",
    "                                                AX_hysteresis_properties.iloc[:,2].tolist(), \n",
    "                                                AX_hysteresis_properties.iloc[:,3].tolist(), \n",
    "                                                AX_hysteresis_properties.iloc[:,4].tolist(), \n",
    "                                                color = 'red', label = 'Anorthosite', figname = 'AX_day_plot.pdf', savefig=1)\n",
    "\n",
    "\n",
    "plt.show(AX_day_plot_fig)"
   ]
  },
  {
   "cell_type": "code",
   "execution_count": 6,
   "metadata": {},
   "outputs": [
    {
     "data": {
      "image/png": "[encoded data removed]",
      "text/plain": [
       "<Figure size 576x432 with 1 Axes>"
      ]
     },
     "metadata": {
      "needs_background": "light"
     },
     "output_type": "display_data"
    }
   ],
   "source": [
    "BD_day_plot_fig, BD_day_plot_ax = make_day_plot(BD_hysteresis_properties.iloc[:,1].tolist(), \n",
    "                                                BD_hysteresis_properties.iloc[:,2].tolist(), \n",
    "                                                BD_hysteresis_properties.iloc[:,3].tolist(), \n",
    "                                                BD_hysteresis_properties.iloc[:,4].tolist(), \n",
    "                                                color = 'blue', label = 'Diabase', figname = 'BD_day_plot.pdf', savefig=1)\n",
    "\n",
    "plt.show(BD_day_plot_fig)"
   ]
  },
  {
   "cell_type": "code",
   "execution_count": 7,
   "metadata": {},
   "outputs": [],
   "source": [
    "AX_accepted_hysteresis_properties = AX_hysteresis_properties[AX_hysteresis_properties['specimen'].isin(AX_accepted_sites)]\n",
    "AX_rejected_hysteresis_properties = AX_hysteresis_properties[AX_hysteresis_properties['specimen'].isin(AX_rejected_sites)]\n",
    "\n",
    "BD_accepted_hysteresis_properties = BD_hysteresis_properties[BD_hysteresis_properties['specimen'].isin(BD_acceptd_sites)]\n",
    "BD_rejected_hysteresis_properties = BD_hysteresis_properties[~BD_hysteresis_properties['specimen'].isin(BD_acceptd_sites)]"
   ]
  },
  {
   "cell_type": "code",
   "execution_count": 8,
   "metadata": {},
   "outputs": [
    {
     "data": {
      "image/png": "[encoded data removed]",
      "text/plain": [
       "<Figure size 576x432 with 1 Axes>"
      ]
     },
     "metadata": {
      "needs_background": "light"
     },
     "output_type": "display_data"
    }
   ],
   "source": [
    "fig, ax = make_day_plot(AX_accepted_hysteresis_properties.iloc[:,1].tolist(), AX_accepted_hysteresis_properties.iloc[:,2].tolist(), \n",
    "              AX_accepted_hysteresis_properties.iloc[:,3].tolist(), AX_accepted_hysteresis_properties.iloc[:,4].tolist(), \n",
    "                        color = 'red', label = 'Anorthosite accepted sites', savefig = False)\n",
    "\n",
    "ax.scatter(np.array(AX_rejected_hysteresis_properties.iloc[:,4].tolist())/np.array(AX_rejected_hysteresis_properties.iloc[:,3].tolist()), \n",
    "           np.array(AX_rejected_hysteresis_properties.iloc[:,2].tolist())/np.array(AX_rejected_hysteresis_properties.iloc[:,1].tolist()), \n",
    "           color = 'red', alpha = 0.2, label = 'Anorthosite rejected sites')\n",
    "\n",
    "ax.scatter(np.array(BD_accepted_hysteresis_properties.iloc[:,4].tolist())/np.array(BD_accepted_hysteresis_properties.iloc[:,3].tolist()), \n",
    "           np.array(BD_accepted_hysteresis_properties.iloc[:,2].tolist())/np.array(BD_accepted_hysteresis_properties.iloc[:,1].tolist()), \n",
    "           color = 'blue', label = 'Diabase accepted sites')\n",
    "\n",
    "ax.scatter(np.array(BD_rejected_hysteresis_properties.iloc[:,4].tolist())/np.array(BD_rejected_hysteresis_properties.iloc[:,3].tolist()), \n",
    "           np.array(BD_rejected_hysteresis_properties.iloc[:,2].tolist())/np.array(BD_rejected_hysteresis_properties.iloc[:,1].tolist()), \n",
    "           color = 'blue', alpha = 0.2, label = 'Diabase rejected sites')\n",
    "\n",
    "ax.set_xlabel('Hcr/Hc')\n",
    "ax.set_ylabel('Mr/Ms')\n",
    "ax.set_xlim(0, 6)\n",
    "ax.set_ylim(0, 0.6)\n",
    "ax.text(5, 0.02, 'MD')\n",
    "ax.text(3, 0.45, 'PSD')\n",
    "ax.text(0.75, 0.55, 'SD')\n",
    "plt.legend()\n",
    "plt.savefig('code_output/Day_plots_based_on_PINT.pdf')\n",
    "plt.show(fig)"
   ]
  },
  {
   "cell_type": "code",
   "execution_count": null,
   "metadata": {},
   "outputs": [],
   "source": []
  },
  {
   "cell_type": "code",
   "execution_count": null,
   "metadata": {},
   "outputs": [],
   "source": []
  },
  {
   "cell_type": "code",
   "execution_count": null,
   "metadata": {},
   "outputs": [],
   "source": []
  },
  {
   "cell_type": "code",
   "execution_count": null,
   "metadata": {},
   "outputs": [],
   "source": []
  },
  {
   "cell_type": "code",
   "execution_count": null,
   "metadata": {},
   "outputs": [],
   "source": []
  },
  {
   "cell_type": "code",
   "execution_count": null,
   "metadata": {},
   "outputs": [],
   "source": []
  },
  {
   "cell_type": "code",
   "execution_count": null,
   "metadata": {},
   "outputs": [],
   "source": []
  },
  {
   "cell_type": "code",
   "execution_count": null,
   "metadata": {},
   "outputs": [],
   "source": []
  }
 ],
 "metadata": {
  "kernelspec": {
   "display_name": "Python 3",
   "language": "python",
   "name": "python3"
  },
  "language_info": {
   "codemirror_mode": {
    "name": "ipython",
    "version": 3
   },
   "file_extension": ".py",
   "mimetype": "text/x-python",
   "name": "python",
   "nbconvert_exporter": "python",
   "pygments_lexer": "ipython3",
   "version": "3.7.6"
  },
  "toc-autonumbering": false
 },
 "nbformat": 4,
 "nbformat_minor": 4
}
