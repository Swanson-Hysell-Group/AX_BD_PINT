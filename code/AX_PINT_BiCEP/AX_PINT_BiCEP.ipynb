{
 "cells": [
  {
   "cell_type": "markdown",
   "id": "1bfef945-895c-467a-a816-029901ad0e75",
   "metadata": {},
   "source": [
    "# This notebook includes anorthosite paleointensity result analyses using the Bias Corrected Estimation of Paleointensity (BiCEP) method\n",
    "\n"
   ]
  },
  {
   "cell_type": "code",
   "execution_count": 1,
   "id": "f017f5dd-0cfb-437c-a0e5-426561f71f50",
   "metadata": {
    "ExecuteTime": {
     "end_time": "2021-06-10T18:45:25.948008Z",
     "start_time": "2021-06-10T18:45:25.281746Z"
    }
   },
   "outputs": [],
   "source": [
    "import pandas as pd\n",
    "import matplotlib.pyplot as plt\n",
    "import pickle\n",
    "%matplotlib inline\n",
    "from IPython.display import Image"
   ]
  },
  {
   "cell_type": "code",
   "execution_count": 2,
   "id": "4d8daf0f-531d-4937-8b91-c6378e6ff0fe",
   "metadata": {
    "ExecuteTime": {
     "end_time": "2021-06-10T18:45:28.361325Z",
     "start_time": "2021-06-10T18:45:26.352622Z"
    }
   },
   "outputs": [],
   "source": [
    "import sys\n",
    "sys.path.append('../BiCEP_modules_and_scripts/') \n",
    "#The BiCEP_functions library imports all other needed libraries\n",
    "import BiCEP_functions as BiCEP"
   ]
  },
  {
   "cell_type": "markdown",
   "id": "d94ccac6-8f7c-44c1-a3da-7b2c7393bac7",
   "metadata": {},
   "source": [
    "## Generate Arai plot table for AX PINT results"
   ]
  },
  {
   "cell_type": "code",
   "execution_count": 3,
   "id": "fad10ee4-a360-4fc7-8e41-880e7139021c",
   "metadata": {
    "ExecuteTime": {
     "end_time": "2021-06-10T18:45:41.895385Z",
     "start_time": "2021-06-10T18:45:29.995245Z"
    }
   },
   "outputs": [
    {
     "name": "stdout",
     "output_type": "stream",
     "text": [
      "-I- Using online data model\n",
      "-I- Getting method codes from earthref.org\n",
      "-I- Importing controlled vocabularies from https://earthref.org\n",
      "Working on: AX1-1a\n",
      "Working on: AX1-2a\n",
      "Working on: AX1-3a\n",
      "Working on: AX10-1a\n",
      "Working on: AX11-1a\n",
      "Working on: AX11-2a\n",
      "Working on: AX11-3a\n",
      "Working on: AX12-1a\n",
      "Working on: AX12-2a\n",
      "Working on: AX12-4a\n",
      "Working on: AX13-2a\n",
      "Working on: AX13-3a\n",
      "Working on: AX13-4a\n",
      "Working on: AX15-1a\n",
      "Working on: AX15-2a\n",
      "Working on: AX15-3a\n",
      "Working on: AX16-1a\n",
      "Working on: AX16-2a\n",
      "Working on: AX16-4a\n",
      "Working on: AX3-3a\n",
      "Working on: AX3-4a\n",
      "Working on: AX3-6a\n",
      "Working on: AX5-2a\n",
      "Working on: AX5-3a\n",
      "Working on: AX7-1a\n",
      "Working on: AX7-2a\n",
      "Working on: AX7-3a\n",
      "Working on: AX9-1a\n",
      "Working on: AX1-4a\n",
      "Working on: AX1-5a\n",
      "Working on: AX1-7a\n",
      "Working on: AX10-2a\n",
      "Working on: AX10-3a\n",
      "Working on: AX11-4a\n",
      "Working on: AX11-5a\n",
      "Working on: AX11-6a\n",
      "Working on: AX11-9a\n",
      "Working on: AX12-10a\n",
      "Working on: AX12-11a\n",
      "Working on: AX12-12a\n",
      "Working on: AX12-13a\n",
      "Working on: AX12-14a\n",
      "Working on: AX12-15a\n",
      "Working on: AX12-5a\n",
      "Working on: AX12-6a\n",
      "Working on: AX12-7a\n",
      "Working on: AX12-8a\n",
      "Working on: AX12-9a\n",
      "Working on: AX13-6a\n",
      "Working on: AX13-7a\n",
      "Working on: AX13-8a\n",
      "Working on: AX13-9a\n",
      "Working on: AX15-6a\n",
      "Working on: AX15-7a\n",
      "Working on: AX15-8a\n",
      "Working on: AX16-10a\n",
      "Working on: AX16-11a\n",
      "Working on: AX16-12a\n",
      "Working on: AX16-13a\n",
      "Working on: AX16-14a\n",
      "Working on: AX16-15a\n",
      "Working on: AX16-16a\n",
      "Working on: AX16-5a\n",
      "Working on: AX16-6a\n",
      "Working on: AX16-7a\n",
      "Working on: AX16-8a\n",
      "Working on: AX16-9a\n",
      "Working on: AX22-10b\n",
      "Working on: AX22-1b\n",
      "Working on: AX22-2b\n",
      "Working on: AX22-3b\n",
      "Working on: AX22-4b\n",
      "Working on: AX22-5b\n",
      "Working on: AX22-6b\n",
      "Working on: AX22-7b\n",
      "Working on: AX22-8b\n",
      "Working on: AX22-9b\n",
      "Working on: AX3-7a\n",
      "Working on: AX3-8a\n",
      "Working on: AX3-9a\n",
      "Working on: AX6-1a\n",
      "Working on: AX6-2a\n",
      "Working on: AX6-3a\n",
      "Working on: AX8-1a\n",
      "Working on: AX8-2a\n",
      "Working on: AX8-3a\n",
      "Couldn't find Anisotropy Tensors, Generating...\n",
      "-E- No measurement records found with code LP-AN-TRM\n",
      "-E- No measurement records found with code LP-AN-ARM\n"
     ]
    }
   ],
   "source": [
    "BiCEP.generate_arai_plot_table('AX_all')"
   ]
  },
  {
   "cell_type": "code",
   "execution_count": 4,
   "id": "ce944699-24e8-489c-badb-571f8d453834",
   "metadata": {
    "ExecuteTime": {
     "end_time": "2021-06-10T18:49:29.553630Z",
     "start_time": "2021-06-10T18:49:25.943686Z"
    }
   },
   "outputs": [
    {
     "name": "stdout",
     "output_type": "stream",
     "text": [
      "Set of Thellier Data Containing the Sites:\n",
      "AX1\t(6 specimens)\n",
      "AX10\t(3 specimens)\n",
      "AX11\t(7 specimens)\n",
      "AX12\t(14 specimens)\n",
      "AX13\t(7 specimens)\n",
      "AX15\t(6 specimens)\n",
      "AX16\t(15 specimens)\n",
      "AX3\t(6 specimens)\n",
      "AX5\t(2 specimens)\n",
      "AX7\t(3 specimens)\n",
      "AX9\t(1 specimens)\n",
      "AX22\t(10 specimens)\n",
      "AX6\t(3 specimens)\n",
      "AX8\t(3 specimens)\n",
      "\n"
     ]
    }
   ],
   "source": [
    "data=BiCEP.ThellierData('AX_all.csv')\n",
    "print(data)"
   ]
  },
  {
   "cell_type": "markdown",
   "id": "80bf43d4-974f-4a23-870e-2ce828600a63",
   "metadata": {},
   "source": [
    "# Data processing and analysis"
   ]
  },
  {
   "cell_type": "markdown",
   "id": "04a1dcf4-533c-48bc-938f-2bce7a279a50",
   "metadata": {
    "tags": []
   },
   "source": [
    "### Looking at site and specimen data"
   ]
  },
  {
   "cell_type": "code",
   "execution_count": 5,
   "id": "59a93eaa-e082-486e-85f5-f2762c02d069",
   "metadata": {
    "ExecuteTime": {
     "end_time": "2021-06-10T18:49:29.564405Z",
     "start_time": "2021-06-10T18:49:29.561914Z"
    }
   },
   "outputs": [],
   "source": [
    "AX1=data['AX1']\n",
    "AX3=data['AX3']\n",
    "AX5=data['AX5']\n",
    "AX6=data['AX6']\n",
    "AX7=data['AX7']\n",
    "AX8=data['AX8']\n",
    "AX9=data['AX9']\n",
    "AX10=data['AX10']\n",
    "AX11=data['AX11']\n",
    "AX12=data['AX12']\n",
    "AX13=data['AX13']\n",
    "AX15=data['AX15']\n",
    "AX16=data['AX16']\n",
    "AX22=data['AX22']"
   ]
  },
  {
   "cell_type": "markdown",
   "id": "e8e153b2-7f15-4d07-bf28-61b641c93cd7",
   "metadata": {},
   "source": [
    "## The BiCEP method- accounting for bias"
   ]
  },
  {
   "cell_type": "markdown",
   "id": "bf98fe96-fb8d-41aa-b8f7-01b6f1d77609",
   "metadata": {},
   "source": [
    "### AX1"
   ]
  },
  {
   "cell_type": "code",
   "execution_count": 6,
   "id": "070998dc-bdf7-4f74-8a98-bdf2244b1ea0",
   "metadata": {
    "ExecuteTime": {
     "end_time": "2021-06-10T18:53:27.580558Z",
     "start_time": "2021-06-10T18:53:04.818682Z"
    }
   },
   "outputs": [
    {
     "name": "stderr",
     "output_type": "stream",
     "text": [
      "WARNING:pystan:n_eff / iter below 0.001 indicates that the effective sample size has likely been overestimated\n",
      "WARNING:pystan:Rhat above 1.1 or below 0.9 indicates that the chains very likely have not mixed\n",
      "WARNING:pystan:15680 of 60000 iterations ended with a divergence (26.1 %).\n",
      "WARNING:pystan:Try running with adapt_delta larger than 0.8 to remove the divergences.\n"
     ]
    }
   ],
   "source": [
    "AX1.BiCEP_fit(model=BiCEP.model_circle_fast)\n",
    "#This cell may generate warnings from the internal pystan code. \n",
    "#The main error to watch for is one about R_hat, which indicates the sampler hasn't converged, a \"bad\" run"
   ]
  },
  {
   "cell_type": "code",
   "execution_count": 8,
   "id": "fbb959a1-8d2a-488c-bc21-f7983ce223bb",
   "metadata": {
    "ExecuteTime": {
     "end_time": "2021-05-15T15:41:11.894423Z",
     "start_time": "2021-05-15T15:41:11.060541Z"
    }
   },
   "outputs": [
    {
     "data": {
      "image/png": "[encoded data removed]",
      "text/plain": [
       "<Figure size 864x288 with 2 Axes>"
      ]
     },
     "metadata": {
      "needs_background": "light"
     },
     "output_type": "display_data"
    }
   ],
   "source": [
    "#set up subplots\n",
    "fig,ax=plt.subplots(1,2,figsize=(12,4))\n",
    "#Plot our plot of the BiCEP fit.\n",
    "AX1.regplot(ax=ax[0])\n",
    "ax[0].set_xlim(1.,1.6)\n",
    "ax[0].set_ylim(0,20);\n",
    "ax[0].set_ylabel('$B_{anc}$ ($\\mu$T)')\n",
    "ax[0].set_xlabel(r'$\\vec{k}$');\n",
    "#Plot our histogram\n",
    "AX1.histplot(ax=ax[1])\n",
    "ax[1].set_xlim(0, 100)\n",
    "fig.suptitle('AX1 estiamtes')\n",
    "plt.draw()\n",
    "plt.show();"
   ]
  },
  {
   "cell_type": "markdown",
   "id": "9d385c3f-49b9-402b-b706-b72b2f92e667",
   "metadata": {},
   "source": [
    "### AX3"
   ]
  },
  {
   "cell_type": "code",
   "execution_count": 9,
   "id": "8d70c232-bd4a-45e0-a36f-dbcea6f02491",
   "metadata": {
    "ExecuteTime": {
     "end_time": "2021-06-10T18:53:27.580558Z",
     "start_time": "2021-06-10T18:53:04.818682Z"
    }
   },
   "outputs": [
    {
     "name": "stderr",
     "output_type": "stream",
     "text": [
      "WARNING:pystan:3019 of 60000 iterations ended with a divergence (5.03 %).\n",
      "WARNING:pystan:Try running with adapt_delta larger than 0.8 to remove the divergences.\n"
     ]
    }
   ],
   "source": [
    "AX3.BiCEP_fit(model=BiCEP.model_circle_fast)\n",
    "#This cell may generate warnings from the internal pystan code. \n",
    "#The main error to watch for is one about R_hat, which indicates the sampler hasn't converged, a \"bad\" run"
   ]
  },
  {
   "cell_type": "code",
   "execution_count": 15,
   "id": "cba99e0d-d2a1-46dc-89b4-cfabc9054db9",
   "metadata": {
    "ExecuteTime": {
     "end_time": "2021-05-15T15:41:11.894423Z",
     "start_time": "2021-05-15T15:41:11.060541Z"
    }
   },
   "outputs": [
    {
     "data": {
      "image/png": "[encoded data removed]",
      "text/plain": [
       "<Figure size 864x288 with 2 Axes>"
      ]
     },
     "metadata": {
      "needs_background": "light"
     },
     "output_type": "display_data"
    }
   ],
   "source": [
    "#set up subplots\n",
    "fig,ax=plt.subplots(1,2,figsize=(12,4))\n",
    "#Plot our plot of the BiCEP fit.\n",
    "AX3.regplot(ax=ax[0])\n",
    "ax[0].set_xlim(.5,2.)\n",
    "ax[0].set_ylim(0,50);\n",
    "ax[0].set_ylabel('$B_{anc}$ ($\\mu$T)')\n",
    "ax[0].set_xlabel(r'$\\vec{k}$');\n",
    "#Plot our histogram\n",
    "AX3.histplot(ax=ax[1])\n",
    "ax[1].set_xlim(0, 100)\n",
    "fig.suptitle('AX3 estiamtes')\n",
    "plt.draw()\n",
    "plt.show();"
   ]
  },
  {
   "cell_type": "markdown",
   "id": "f963a307-b70a-4388-91c8-cb981b928d36",
   "metadata": {},
   "source": [
    "### AX5"
   ]
  },
  {
   "cell_type": "code",
   "execution_count": null,
   "id": "7f43eb58-e4a1-4797-8885-ea346aa5e532",
   "metadata": {
    "ExecuteTime": {
     "end_time": "2021-06-10T18:53:27.580558Z",
     "start_time": "2021-06-10T18:53:04.818682Z"
    }
   },
   "outputs": [],
   "source": [
    "AX5.BiCEP_fit(model=BiCEP.model_circle_fast)\n",
    "#This cell may generate warnings from the internal pystan code. \n",
    "#The main error to watch for is one about R_hat, which indicates the sampler hasn't converged, a \"bad\" run"
   ]
  },
  {
   "cell_type": "code",
   "execution_count": null,
   "id": "babb5112-9fe9-4e4a-a650-197e56867daf",
   "metadata": {
    "ExecuteTime": {
     "end_time": "2021-05-15T15:41:11.894423Z",
     "start_time": "2021-05-15T15:41:11.060541Z"
    }
   },
   "outputs": [],
   "source": [
    "#set up subplots\n",
    "fig,ax=plt.subplots(1,2,figsize=(12,4))\n",
    "#Plot our plot of the BiCEP fit.\n",
    "AX5.regplot(ax[0])\n",
    "# ax[0].set_xlim(0.,1.2)\n",
    "# ax[0].set_ylim(0,20);\n",
    "ax[0].set_ylabel('$B_{anc}$ ($\\mu$T)')\n",
    "#Plot our histogram\n",
    "AX5.histplot(ax[1]);\n",
    "ax[1].set_xlim(0, 100)\n",
    "fig.suptitle('AX5 estiamtes');"
   ]
  },
  {
   "cell_type": "markdown",
   "id": "49b28ed6-982e-4591-9d15-c3086891b4d6",
   "metadata": {},
   "source": [
    "### AX6"
   ]
  },
  {
   "cell_type": "code",
   "execution_count": null,
   "id": "9bd60ec0-14c2-4961-89b3-a7533bc8d698",
   "metadata": {
    "ExecuteTime": {
     "end_time": "2021-06-10T18:53:27.580558Z",
     "start_time": "2021-06-10T18:53:04.818682Z"
    }
   },
   "outputs": [],
   "source": [
    "AX6.BiCEP_fit(model=BiCEP.model_circle_fast)\n",
    "#This cell may generate warnings from the internal pystan code. \n",
    "#The main error to watch for is one about R_hat, which indicates the sampler hasn't converged, a \"bad\" run"
   ]
  },
  {
   "cell_type": "code",
   "execution_count": null,
   "id": "9237c04c-544b-41d5-87f2-b434c9938ccd",
   "metadata": {
    "ExecuteTime": {
     "end_time": "2021-05-15T15:41:11.894423Z",
     "start_time": "2021-05-15T15:41:11.060541Z"
    }
   },
   "outputs": [],
   "source": [
    "#set up subplots\n",
    "fig,ax=plt.subplots(1,2,figsize=(12,4))\n",
    "#Plot our plot of the BiCEP fit.\n",
    "AX6.regplot(ax[0])\n",
    "# ax[0].set_xlim(0.,1.6)\n",
    "# ax[0].set_ylim(0,20);\n",
    "ax[0].set_ylabel('$B_{anc}$ ($\\mu$T)')\n",
    "#Plot our histogram\n",
    "AX6.histplot(ax[1]);\n",
    "# ax[1].set_xlim(0, 100)\n",
    "fig.suptitle('AX6 estiamtes');"
   ]
  },
  {
   "cell_type": "markdown",
   "id": "3493bce8-a27b-4746-8322-0c5f038c0db2",
   "metadata": {},
   "source": [
    "### AX7"
   ]
  },
  {
   "cell_type": "code",
   "execution_count": null,
   "id": "1917810a-7aa9-4d81-9d24-a182b6cb67f4",
   "metadata": {
    "ExecuteTime": {
     "end_time": "2021-06-10T18:53:27.580558Z",
     "start_time": "2021-06-10T18:53:04.818682Z"
    }
   },
   "outputs": [],
   "source": [
    "AX7.BiCEP_fit(model=BiCEP.model_circle_fast)\n",
    "#This cell may generate warnings from the internal pystan code. \n",
    "#The main error to watch for is one about R_hat, which indicates the sampler hasn't converged, a \"bad\" run"
   ]
  },
  {
   "cell_type": "code",
   "execution_count": null,
   "id": "4d64916f-d153-4a03-8505-93feda4c9588",
   "metadata": {
    "ExecuteTime": {
     "end_time": "2021-05-15T15:41:11.894423Z",
     "start_time": "2021-05-15T15:41:11.060541Z"
    }
   },
   "outputs": [],
   "source": [
    "#set up subplots\n",
    "fig,ax=plt.subplots(1,2,figsize=(12,4))\n",
    "#Plot our plot of the BiCEP fit.\n",
    "AX7.regplot(ax[0])\n",
    "# ax[0].set_xlim(1.,1.6)\n",
    "# ax[0].set_ylim(0,20);\n",
    "ax[0].set_ylabel('$B_{anc}$ ($\\mu$T)')\n",
    "#Plot our histogram\n",
    "AX7.histplot(ax[1]);\n",
    "# ax[1].set_xlim(0, 100)\n",
    "fig.suptitle('AX7 estiamtes');"
   ]
  },
  {
   "cell_type": "markdown",
   "id": "75ed876f-abd1-45e5-92cc-28b734ac25a0",
   "metadata": {},
   "source": [
    "### AX8"
   ]
  },
  {
   "cell_type": "code",
   "execution_count": null,
   "id": "f941b564-a014-4da2-a123-8060855c0c50",
   "metadata": {
    "ExecuteTime": {
     "end_time": "2021-06-10T18:53:27.580558Z",
     "start_time": "2021-06-10T18:53:04.818682Z"
    }
   },
   "outputs": [],
   "source": [
    "AX8.BiCEP_fit(model=BiCEP.model_circle_fast)\n",
    "#This cell may generate warnings from the internal pystan code. \n",
    "#The main error to watch for is one about R_hat, which indicates the sampler hasn't converged, a \"bad\" run"
   ]
  },
  {
   "cell_type": "code",
   "execution_count": null,
   "id": "1e1c0564-7b31-4096-957d-7608e657f197",
   "metadata": {
    "ExecuteTime": {
     "end_time": "2021-05-15T15:41:11.894423Z",
     "start_time": "2021-05-15T15:41:11.060541Z"
    }
   },
   "outputs": [],
   "source": [
    "#set up subplots\n",
    "fig,ax=plt.subplots(1,2,figsize=(12,4))\n",
    "#Plot our plot of the BiCEP fit.\n",
    "AX8.regplot(ax[0])\n",
    "# ax[0].set_xlim(1.,1.6)\n",
    "# ax[0].set_ylim(0,20);\n",
    "ax[0].set_ylabel('$B_{anc}$ ($\\mu$T)')\n",
    "#Plot our histogram\n",
    "AX8.histplot(ax[1]);\n",
    "# ax[1].set_xlim(0, 100)\n",
    "fig.suptitle('AX8 estiamtes');"
   ]
  },
  {
   "cell_type": "markdown",
   "id": "cb0634f8-459f-49d5-a91a-9d9a5ea2138a",
   "metadata": {},
   "source": [
    "### AX9"
   ]
  },
  {
   "cell_type": "code",
   "execution_count": null,
   "id": "9fd167e7-194a-4cdf-b246-cb3395fee652",
   "metadata": {
    "ExecuteTime": {
     "end_time": "2021-06-10T18:53:27.580558Z",
     "start_time": "2021-06-10T18:53:04.818682Z"
    }
   },
   "outputs": [],
   "source": [
    "AX9.BiCEP_fit(model=BiCEP.model_circle_fast)\n",
    "#This cell may generate warnings from the internal pystan code. \n",
    "#The main error to watch for is one about R_hat, which indicates the sampler hasn't converged, a \"bad\" run"
   ]
  },
  {
   "cell_type": "code",
   "execution_count": null,
   "id": "81d8044f-234b-4774-afb9-fa439a6835b9",
   "metadata": {
    "ExecuteTime": {
     "end_time": "2021-05-15T15:41:11.894423Z",
     "start_time": "2021-05-15T15:41:11.060541Z"
    }
   },
   "outputs": [],
   "source": [
    "#set up subplots\n",
    "fig,ax=plt.subplots(1,2,figsize=(12,4))\n",
    "#Plot our plot of the BiCEP fit.\n",
    "AX9.regplot(ax[0])\n",
    "# ax[0].set_xlim(1.,1.6)\n",
    "# ax[0].set_ylim(0,20);\n",
    "ax[0].set_ylabel('$B_{anc}$ ($\\mu$T)')\n",
    "#Plot our histogram\n",
    "AX9.histplot(ax[1]);\n",
    "# ax[1].set_xlim(0, 100)\n",
    "fig.suptitle('AX9 estiamtes');"
   ]
  },
  {
   "cell_type": "markdown",
   "id": "43b700d8-bec3-4042-8eca-b6a73c4d6a82",
   "metadata": {},
   "source": [
    "### AX10"
   ]
  },
  {
   "cell_type": "code",
   "execution_count": null,
   "id": "bd975d73-3d24-4399-a206-9857ed1c5aac",
   "metadata": {
    "ExecuteTime": {
     "end_time": "2021-06-10T18:53:27.580558Z",
     "start_time": "2021-06-10T18:53:04.818682Z"
    }
   },
   "outputs": [],
   "source": [
    "AX10.BiCEP_fit(model=BiCEP.model_circle_fast)\n",
    "#This cell may generate warnings from the internal pystan code. \n",
    "#The main error to watch for is one about R_hat, which indicates the sampler hasn't converged, a \"bad\" run"
   ]
  },
  {
   "cell_type": "code",
   "execution_count": null,
   "id": "098e8caf-9cc2-4587-8341-3113205fcd6a",
   "metadata": {
    "ExecuteTime": {
     "end_time": "2021-05-15T15:41:11.894423Z",
     "start_time": "2021-05-15T15:41:11.060541Z"
    }
   },
   "outputs": [],
   "source": [
    "#set up subplots\n",
    "fig,ax=plt.subplots(1,2,figsize=(12,4))\n",
    "#Plot our plot of the BiCEP fit.\n",
    "AX10.regplot(ax[0])\n",
    "# ax[0].set_xlim(1.,1.6)\n",
    "# ax[0].set_ylim(0,20);\n",
    "ax[0].set_ylabel('$B_{anc}$ ($\\mu$T)')\n",
    "#Plot our histogram\n",
    "AX10.histplot(ax[1]);\n",
    "# ax[1].set_xlim(0, 100)\n",
    "fig.suptitle('AX10 estiamtes')\n",
    "plt.show();"
   ]
  },
  {
   "cell_type": "markdown",
   "id": "e2546970-d3e9-4bd9-b841-6d29548406d2",
   "metadata": {},
   "source": [
    "### AX11"
   ]
  },
  {
   "cell_type": "code",
   "execution_count": null,
   "id": "2d596edc-a9c3-4c41-a704-19ffa2aa8069",
   "metadata": {
    "ExecuteTime": {
     "end_time": "2021-06-10T18:53:27.580558Z",
     "start_time": "2021-06-10T18:53:04.818682Z"
    }
   },
   "outputs": [],
   "source": [
    "AX11.BiCEP_fit(model=BiCEP.model_circle_fast)\n",
    "#This cell may generate warnings from the internal pystan code. \n",
    "#The main error to watch for is one about R_hat, which indicates the sampler hasn't converged, a \"bad\" run"
   ]
  },
  {
   "cell_type": "code",
   "execution_count": null,
   "id": "7cddef81-9dc3-4a94-81f7-0fb41679f326",
   "metadata": {
    "ExecuteTime": {
     "end_time": "2021-05-15T15:41:11.894423Z",
     "start_time": "2021-05-15T15:41:11.060541Z"
    }
   },
   "outputs": [],
   "source": [
    "#set up subplots\n",
    "fig,ax=plt.subplots(1,2,figsize=(12,4))\n",
    "#Plot our plot of the BiCEP fit.\n",
    "AX11.regplot(ax[0])\n",
    "# ax[0].set_xlim(1.,1.6)\n",
    "# ax[0].set_ylim(0,20);\n",
    "ax[0].set_ylabel('$B_{anc}$ ($\\mu$T)')\n",
    "#Plot our histogram\n",
    "AX11.histplot(ax[1]);\n",
    "# ax[1].set_xlim(0, 100)\n",
    "fig.suptitle('AX11 estiamtes');"
   ]
  },
  {
   "cell_type": "markdown",
   "id": "062e1d57-d5ab-4439-a62c-a06791fc9baa",
   "metadata": {},
   "source": [
    "### AX12"
   ]
  },
  {
   "cell_type": "code",
   "execution_count": null,
   "id": "289ab46b-f3f0-44db-b440-c8a080267903",
   "metadata": {
    "ExecuteTime": {
     "end_time": "2021-06-10T18:53:27.580558Z",
     "start_time": "2021-06-10T18:53:04.818682Z"
    }
   },
   "outputs": [],
   "source": [
    "AX12.BiCEP_fit(model=BiCEP.model_circle_fast)\n",
    "#This cell may generate warnings from the internal pystan code. \n",
    "#The main error to watch for is one about R_hat, which indicates the sampler hasn't converged, a \"bad\" run"
   ]
  },
  {
   "cell_type": "code",
   "execution_count": null,
   "id": "f574f58a-300f-4c17-803a-9113ddba5687",
   "metadata": {
    "ExecuteTime": {
     "end_time": "2021-05-15T15:41:11.894423Z",
     "start_time": "2021-05-15T15:41:11.060541Z"
    }
   },
   "outputs": [],
   "source": [
    "#set up subplots\n",
    "fig,ax=plt.subplots(1,2,figsize=(12,4))\n",
    "#Plot our plot of the BiCEP fit.\n",
    "AX12.regplot(ax[0])\n",
    "# ax[0].set_xlim(1.,1.6)\n",
    "# ax[0].set_ylim(0,20);\n",
    "ax[0].set_ylabel('$B_{anc}$ ($\\mu$T)')\n",
    "#Plot our histogram\n",
    "AX12.histplot(ax[1]);\n",
    "# ax[1].set_xlim(0, 100)\n",
    "fig.suptitle('AX12 estiamtes');"
   ]
  },
  {
   "cell_type": "markdown",
   "id": "7dce67e8-5fa0-4886-a4ca-f967529b83db",
   "metadata": {},
   "source": [
    "### AX13"
   ]
  },
  {
   "cell_type": "code",
   "execution_count": null,
   "id": "2f71be84-d9d5-4abe-b6db-efa7346d7eb5",
   "metadata": {
    "ExecuteTime": {
     "end_time": "2021-06-10T18:53:27.580558Z",
     "start_time": "2021-06-10T18:53:04.818682Z"
    }
   },
   "outputs": [],
   "source": [
    "AX13.BiCEP_fit(model=BiCEP.model_circle_fast)\n",
    "#This cell may generate warnings from the internal pystan code. \n",
    "#The main error to watch for is one about R_hat, which indicates the sampler hasn't converged, a \"bad\" run"
   ]
  },
  {
   "cell_type": "code",
   "execution_count": null,
   "id": "f838b55f-b232-42fb-9bf1-be56c9df3f38",
   "metadata": {
    "ExecuteTime": {
     "end_time": "2021-05-15T15:41:11.894423Z",
     "start_time": "2021-05-15T15:41:11.060541Z"
    }
   },
   "outputs": [],
   "source": [
    "#set up subplots\n",
    "fig,ax=plt.subplots(1,2,figsize=(12,4))\n",
    "#Plot our plot of the BiCEP fit.\n",
    "AX13.regplot(ax[0])\n",
    "# ax[0].set_xlim(1.,1.6)\n",
    "# ax[0].set_ylim(0,20);\n",
    "ax[0].set_ylabel('$B_{anc}$ ($\\mu$T)')\n",
    "#Plot our histogram\n",
    "AX1.histplot(ax[1]);\n",
    "# ax[1].set_xlim(0, 100)\n",
    "fig.suptitle('AX13 estiamtes');"
   ]
  },
  {
   "cell_type": "markdown",
   "id": "6d63ded8-cd05-42a1-9c14-c4a1cab32701",
   "metadata": {},
   "source": [
    "### AX15"
   ]
  },
  {
   "cell_type": "code",
   "execution_count": null,
   "id": "34a2c6f9-f460-4bf6-9c17-2008573159e4",
   "metadata": {
    "ExecuteTime": {
     "end_time": "2021-06-10T18:53:27.580558Z",
     "start_time": "2021-06-10T18:53:04.818682Z"
    }
   },
   "outputs": [],
   "source": [
    "AX15.BiCEP_fit(model=BiCEP.model_circle_fast)\n",
    "#This cell may generate warnings from the internal pystan code. \n",
    "#The main error to watch for is one about R_hat, which indicates the sampler hasn't converged, a \"bad\" run"
   ]
  },
  {
   "cell_type": "code",
   "execution_count": null,
   "id": "b6025dab-8698-4470-b872-d90d30e8f11c",
   "metadata": {
    "ExecuteTime": {
     "end_time": "2021-05-15T15:41:11.894423Z",
     "start_time": "2021-05-15T15:41:11.060541Z"
    }
   },
   "outputs": [],
   "source": [
    "#set up subplots\n",
    "fig,ax=plt.subplots(1,2,figsize=(12,4))\n",
    "#Plot our plot of the BiCEP fit.\n",
    "AX15.regplot(ax[0])\n",
    "# ax[0].set_xlim(1.,1.6)\n",
    "# ax[0].set_ylim(0,20);\n",
    "ax[0].set_ylabel('$B_{anc}$ ($\\mu$T)')\n",
    "#Plot our histogram\n",
    "AX15.histplot(ax[1]);\n",
    "# ax[1].set_xlim(0, 100)\n",
    "fig.suptitle('AX15 estiamtes');"
   ]
  },
  {
   "cell_type": "markdown",
   "id": "a9b80455-2d47-4032-a2f1-60e1c7f4296a",
   "metadata": {},
   "source": [
    "### AX16"
   ]
  },
  {
   "cell_type": "code",
   "execution_count": null,
   "id": "fba1aad9-64fc-44e8-9a7d-6588085393ba",
   "metadata": {
    "ExecuteTime": {
     "end_time": "2021-06-10T18:53:27.580558Z",
     "start_time": "2021-06-10T18:53:04.818682Z"
    }
   },
   "outputs": [],
   "source": [
    "AX16.BiCEP_fit(model=BiCEP.model_circle_fast)\n",
    "#This cell may generate warnings from the internal pystan code. \n",
    "#The main error to watch for is one about R_hat, which indicates the sampler hasn't converged, a \"bad\" run"
   ]
  },
  {
   "cell_type": "code",
   "execution_count": null,
   "id": "141d0d68-8fe8-46af-8ad4-c38557ff4687",
   "metadata": {
    "ExecuteTime": {
     "end_time": "2021-05-15T15:41:11.894423Z",
     "start_time": "2021-05-15T15:41:11.060541Z"
    }
   },
   "outputs": [],
   "source": [
    "#set up subplots\n",
    "fig,ax=plt.subplots(1,2,figsize=(12,4))\n",
    "#Plot our plot of the BiCEP fit.\n",
    "AX16.regplot(ax[0])\n",
    "# ax[0].set_xlim(1.,1.6)\n",
    "# ax[0].set_ylim(0,20);\n",
    "ax[0].set_ylabel('$B_{anc}$ ($\\mu$T)')\n",
    "#Plot our histogram\n",
    "AX16.histplot(ax[1]);\n",
    "# ax[1].set_xlim(0, 100)\n",
    "fig.suptitle('AX16 estiamtes');"
   ]
  },
  {
   "cell_type": "markdown",
   "id": "881bd957-4ce3-4f5d-bb45-8eb3c5f8c1b6",
   "metadata": {},
   "source": [
    "### AX22"
   ]
  },
  {
   "cell_type": "code",
   "execution_count": null,
   "id": "1f70c0d2-f412-460b-a34e-faaf42da568c",
   "metadata": {
    "ExecuteTime": {
     "end_time": "2021-06-10T18:53:27.580558Z",
     "start_time": "2021-06-10T18:53:04.818682Z"
    }
   },
   "outputs": [],
   "source": [
    "AX22.BiCEP_fit(model=BiCEP.model_circle_fast)\n",
    "#This cell may generate warnings from the internal pystan code. \n",
    "#The main error to watch for is one about R_hat, which indicates the sampler hasn't converged, a \"bad\" run"
   ]
  },
  {
   "cell_type": "code",
   "execution_count": null,
   "id": "11926790-64a0-4de6-b043-e58b37432b53",
   "metadata": {
    "ExecuteTime": {
     "end_time": "2021-05-15T15:41:11.894423Z",
     "start_time": "2021-05-15T15:41:11.060541Z"
    }
   },
   "outputs": [],
   "source": [
    "#set up subplots\n",
    "fig,ax=plt.subplots(1,2,figsize=(12,4))\n",
    "#Plot our plot of the BiCEP fit.\n",
    "AX22.regplot(ax[0])\n",
    "# ax[0].set_xlim(1.,1.6)\n",
    "# ax[0].set_ylim(0,20);\n",
    "ax[0].set_ylabel('$B_{anc}$ ($\\mu$T)')\n",
    "#Plot our histogram\n",
    "AX22.histplot(ax[1]);\n",
    "# ax[1].set_xlim(0, 100)\n",
    "fig.suptitle('AX22 estiamtes');"
   ]
  },
  {
   "cell_type": "code",
   "execution_count": null,
   "id": "19e960ac-df92-4579-93dc-9175c86dde68",
   "metadata": {},
   "outputs": [],
   "source": []
  },
  {
   "cell_type": "code",
   "execution_count": null,
   "id": "39239f93-4b03-4aad-92f3-60d5249e9f59",
   "metadata": {},
   "outputs": [],
   "source": []
  },
  {
   "cell_type": "code",
   "execution_count": null,
   "id": "7ec56a5b-59ad-411f-9c69-94022efaaf22",
   "metadata": {},
   "outputs": [],
   "source": []
  },
  {
   "cell_type": "code",
   "execution_count": null,
   "id": "a3ad6707-e755-4096-a7a7-2f9432036290",
   "metadata": {},
   "outputs": [],
   "source": []
  }
 ],
 "metadata": {
  "kernelspec": {
   "display_name": "Python 3",
   "language": "python",
   "name": "python3"
  },
  "language_info": {
   "codemirror_mode": {
    "name": "ipython",
    "version": 3
   },
   "file_extension": ".py",
   "mimetype": "text/x-python",
   "name": "python",
   "nbconvert_exporter": "python",
   "pygments_lexer": "ipython3",
   "version": "3.7.6"
  },
  "toc-autonumbering": false
 },
 "nbformat": 4,
 "nbformat_minor": 5
}
