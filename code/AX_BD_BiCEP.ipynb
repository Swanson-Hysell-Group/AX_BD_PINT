{
 "cells": [
  {
   "cell_type": "markdown",
   "id": "31c18139-5191-4b83-88bf-b01ec7c6c042",
   "metadata": {},
   "source": [
    "# This notebook combines the BiCEP results from anorthosite and diabase together"
   ]
  },
  {
   "cell_type": "code",
   "execution_count": 1,
   "id": "101cab00-8169-4152-9cdf-d315eb6a3073",
   "metadata": {
    "ExecuteTime": {
     "end_time": "2021-06-10T18:45:25.948008Z",
     "start_time": "2021-06-10T18:45:25.281746Z"
    }
   },
   "outputs": [],
   "source": [
    "import pandas as pd\n",
    "import numpy as np\n",
    "import matplotlib.pyplot as plt\n",
    "import pickle\n",
    "import seaborn as sns\n",
    "%matplotlib inline\n",
    "from IPython.display import Image"
   ]
  },
  {
   "cell_type": "markdown",
   "id": "efb7f00f-d849-4878-a7a5-1fe8db2aabaf",
   "metadata": {
    "tags": []
   },
   "source": [
    "## anorthosite and diabase cooling unit pair\n",
    "\n",
    "<center>\n",
    "    \n",
    "| Cooling unit #| AX sites| BD sites | Note |\n",
    "| :------------- | :----------: | -----------: | -----------: |\n",
    "| 1 | AX1 | BD1 | This xenolith site is hosted by BD1 diabase site and their directions agree very well|\n",
    "| 2 | AX3, AX4, AX5, AX6, AX7, AX8, AX9, AX10 | BD2 | All of these xenoliths are hosted by the same Carlton Peak BD2 sill |\n",
    "| 3 | AX11, AX13 | BD3 | These two anorthosite xenoliths are hosted by the same Kennedy Creek BD3 diabase sill | \n",
    "| 4 | AX12, AX14 | BD4 | These two anorthosite xenoliths are in close proximity hosted by BD4 diabase sill |\n",
    "| 5 | AX15, AX16, AX17, AX18 | BD5 | These anorthosite xenoliths are in close proximity hosted by a Silver Bay BD5 diabase sill |\n",
    "| 6 | AX19 | BD6 | This xenolith site is hosted by BD6 diabase site and their directions agree very well |\n",
    "| 7 | AX20 | BD7 | This xenolith site is hosted by BD7 diabase site and their directions agree very well |\n",
    "| 8 | AX22 | BD10| This xenolith site is hosted by BD10 diabase site and their directions agree very well |\n",
    "| 9 | AX21 | | This xenolith site is about 300 meters from BD7 diabase, and have a shallower direction than AX20 and BD7 |\n",
    "| 10 | | BD8 | single diabase site |\n",
    "| 11 | | BD9 | single diabase site |\n",
    "| 12 | | BD11 | single diabase site |\n",
    "| 13 | | BD12 | single diabase site |\n",
    "| 14 | | BD13 | single diabase site |\n",
    "| 15 | | BD15 | single diabase site |\n",
    "| 16 | | BD17 | single diabase site |  \n",
    "|  | AX2 | | This xenolith is hosted by BD1 but it has an overprint with later secondary oxidation event |\n",
    "|  | | BD14 | Large overprint, not taken into calculation |\n",
    "|  | | BD16 | Large overprint, not taken into calculation |\n",
    "</center>"
   ]
  },
  {
   "cell_type": "code",
   "execution_count": 2,
   "id": "63754b6b-2b5f-40b5-a350-92949a6ea291",
   "metadata": {},
   "outputs": [],
   "source": [
    "# all fits are cooling rate corrected\n",
    "\n",
    "AX_accepted_fit_frame = pd.read_csv('code_output/AX_accepted_fit_frame.csv')\n",
    "AX_rejected_fit_frame = pd.read_csv('code_output/AX_rejected_fit_frame.csv')\n",
    "\n",
    "BD_rejected_fit_frame = pd.read_csv('code_output/BD_rejected_fit_frame.csv') "
   ]
  },
  {
   "cell_type": "code",
   "execution_count": 3,
   "id": "31150b5e-c595-4c16-9b6f-3da2d5ee6b25",
   "metadata": {},
   "outputs": [
    {
     "data": {
      "text/html": [
       "<div>\n",
       "<style scoped>\n",
       "    .dataframe tbody tr th:only-of-type {\n",
       "        vertical-align: middle;\n",
       "    }\n",
       "\n",
       "    .dataframe tbody tr th {\n",
       "        vertical-align: top;\n",
       "    }\n",
       "\n",
       "    .dataframe thead th {\n",
       "        text-align: right;\n",
       "    }\n",
       "</style>\n",
       "<table border=\"1\" class=\"dataframe\">\n",
       "  <thead>\n",
       "    <tr style=\"text-align: right;\">\n",
       "      <th></th>\n",
       "      <th>AX1</th>\n",
       "      <th>BD1</th>\n",
       "      <th>AX5</th>\n",
       "      <th>AX7</th>\n",
       "      <th>AX6</th>\n",
       "      <th>AX8</th>\n",
       "      <th>AX10</th>\n",
       "      <th>BD2</th>\n",
       "      <th>AX11</th>\n",
       "      <th>AX13</th>\n",
       "      <th>AX12</th>\n",
       "      <th>AX16</th>\n",
       "      <th>BD5</th>\n",
       "      <th>BD6</th>\n",
       "      <th>BD7</th>\n",
       "      <th>BD8</th>\n",
       "      <th>BD9</th>\n",
       "    </tr>\n",
       "  </thead>\n",
       "  <tbody>\n",
       "    <tr>\n",
       "      <th>0</th>\n",
       "      <td>24.833937</td>\n",
       "      <td>21.858414</td>\n",
       "      <td>24.102344</td>\n",
       "      <td>123.007789</td>\n",
       "      <td>43.078816</td>\n",
       "      <td>70.946367</td>\n",
       "      <td>35.568600</td>\n",
       "      <td>31.741562</td>\n",
       "      <td>54.130042</td>\n",
       "      <td>57.037050</td>\n",
       "      <td>31.587076</td>\n",
       "      <td>68.325019</td>\n",
       "      <td>33.288033</td>\n",
       "      <td>25.808441</td>\n",
       "      <td>20.439058</td>\n",
       "      <td>6.526950</td>\n",
       "      <td>51.091057</td>\n",
       "    </tr>\n",
       "    <tr>\n",
       "      <th>1</th>\n",
       "      <td>39.089472</td>\n",
       "      <td>26.168816</td>\n",
       "      <td>28.872036</td>\n",
       "      <td>15.237853</td>\n",
       "      <td>26.074499</td>\n",
       "      <td>23.025208</td>\n",
       "      <td>36.347028</td>\n",
       "      <td>29.752875</td>\n",
       "      <td>54.731662</td>\n",
       "      <td>56.619759</td>\n",
       "      <td>33.303685</td>\n",
       "      <td>59.120469</td>\n",
       "      <td>26.988319</td>\n",
       "      <td>38.053085</td>\n",
       "      <td>24.181633</td>\n",
       "      <td>2.809761</td>\n",
       "      <td>47.347092</td>\n",
       "    </tr>\n",
       "    <tr>\n",
       "      <th>2</th>\n",
       "      <td>50.659897</td>\n",
       "      <td>20.348636</td>\n",
       "      <td>26.845377</td>\n",
       "      <td>120.619563</td>\n",
       "      <td>48.905404</td>\n",
       "      <td>80.622725</td>\n",
       "      <td>34.464555</td>\n",
       "      <td>28.592844</td>\n",
       "      <td>54.226011</td>\n",
       "      <td>50.897323</td>\n",
       "      <td>36.145501</td>\n",
       "      <td>63.995643</td>\n",
       "      <td>31.890470</td>\n",
       "      <td>32.024116</td>\n",
       "      <td>8.133632</td>\n",
       "      <td>3.779456</td>\n",
       "      <td>127.386404</td>\n",
       "    </tr>\n",
       "    <tr>\n",
       "      <th>3</th>\n",
       "      <td>32.950046</td>\n",
       "      <td>23.989668</td>\n",
       "      <td>23.502488</td>\n",
       "      <td>28.391361</td>\n",
       "      <td>57.082142</td>\n",
       "      <td>16.521979</td>\n",
       "      <td>35.417465</td>\n",
       "      <td>31.068967</td>\n",
       "      <td>52.658049</td>\n",
       "      <td>55.165058</td>\n",
       "      <td>36.323719</td>\n",
       "      <td>60.107799</td>\n",
       "      <td>27.964768</td>\n",
       "      <td>33.309154</td>\n",
       "      <td>11.491545</td>\n",
       "      <td>7.629722</td>\n",
       "      <td>94.024407</td>\n",
       "    </tr>\n",
       "    <tr>\n",
       "      <th>4</th>\n",
       "      <td>35.208464</td>\n",
       "      <td>24.022070</td>\n",
       "      <td>26.970349</td>\n",
       "      <td>28.136013</td>\n",
       "      <td>30.789764</td>\n",
       "      <td>64.661565</td>\n",
       "      <td>38.371565</td>\n",
       "      <td>30.633817</td>\n",
       "      <td>51.726561</td>\n",
       "      <td>61.875149</td>\n",
       "      <td>32.106351</td>\n",
       "      <td>58.315709</td>\n",
       "      <td>43.620867</td>\n",
       "      <td>25.315611</td>\n",
       "      <td>5.179110</td>\n",
       "      <td>10.241663</td>\n",
       "      <td>150.611547</td>\n",
       "    </tr>\n",
       "  </tbody>\n",
       "</table>\n",
       "</div>"
      ],
      "text/plain": [
       "         AX1        BD1        AX5         AX7        AX6        AX8  \\\n",
       "0  24.833937  21.858414  24.102344  123.007789  43.078816  70.946367   \n",
       "1  39.089472  26.168816  28.872036   15.237853  26.074499  23.025208   \n",
       "2  50.659897  20.348636  26.845377  120.619563  48.905404  80.622725   \n",
       "3  32.950046  23.989668  23.502488   28.391361  57.082142  16.521979   \n",
       "4  35.208464  24.022070  26.970349   28.136013  30.789764  64.661565   \n",
       "\n",
       "        AX10        BD2       AX11       AX13       AX12       AX16  \\\n",
       "0  35.568600  31.741562  54.130042  57.037050  31.587076  68.325019   \n",
       "1  36.347028  29.752875  54.731662  56.619759  33.303685  59.120469   \n",
       "2  34.464555  28.592844  54.226011  50.897323  36.145501  63.995643   \n",
       "3  35.417465  31.068967  52.658049  55.165058  36.323719  60.107799   \n",
       "4  38.371565  30.633817  51.726561  61.875149  32.106351  58.315709   \n",
       "\n",
       "         BD5        BD6        BD7        BD8         BD9  \n",
       "0  33.288033  25.808441  20.439058   6.526950   51.091057  \n",
       "1  26.988319  38.053085  24.181633   2.809761   47.347092  \n",
       "2  31.890470  32.024116   8.133632   3.779456  127.386404  \n",
       "3  27.964768  33.309154  11.491545   7.629722   94.024407  \n",
       "4  43.620867  25.315611   5.179110  10.241663  150.611547  "
      ]
     },
     "execution_count": 3,
     "metadata": {},
     "output_type": "execute_result"
    }
   ],
   "source": [
    "cooling_unit_group = ['AX1', 'BD1',\n",
    "                        'AX5', 'AX7', 'AX6', 'AX8', 'AX10', 'BD2', \n",
    "                        'AX11', 'AX13', \n",
    "                        'AX12', \n",
    "                        'AX16', 'BD5', \n",
    "                        'BD6', 'BD7', 'BD8', 'BD9']\n",
    "accept = [0,0,0,0,1,1,1,0,1,1,1,1,0,0,0,0,0]\n",
    "\n",
    "AX_accepted_fit_frame = pd.read_csv('code_output/AX_accepted_fit_frame.csv', index_col=0)\n",
    "\n",
    "AX_rejected_fit_frame = pd.read_csv('code_output/AX_rejected_fit_frame.csv', index_col=0)\n",
    "\n",
    "BD_rejected_fit_frame = pd.read_csv('code_output/BD_rejected_fit_frame.csv', index_col=0)\n",
    "\n",
    "concat_frame = pd.concat([AX_accepted_fit_frame, AX_rejected_fit_frame, BD_rejected_fit_frame], axis=1)\n",
    "\n",
    "concat_frame = concat_frame[cooling_unit_group]\n",
    "concat_frame.head()"
   ]
  },
  {
   "cell_type": "code",
   "execution_count": 4,
   "id": "64bb85c9-0c03-42fe-a52b-f2595677fbd7",
   "metadata": {},
   "outputs": [
    {
     "data": {
      "image/png": "[encoded data removed]",
      "text/plain": [
       "<Figure size 1152x432 with 1 Axes>"
      ]
     },
     "metadata": {
      "needs_background": "light"
     },
     "output_type": "display_data"
    }
   ],
   "source": [
    "fig, ax = plt.subplots(figsize=(16,6))\n",
    "\n",
    "parts = ax.violinplot(concat_frame.T, positions=range(concat_frame.shape[1]), showmedians=True,\n",
    "        showextrema=False)\n",
    "\n",
    "for i in range(concat_frame.shape[1]):\n",
    "    this_site = cooling_unit_group[i]\n",
    "    this_acept = accept[i]\n",
    "    this_color = 'grey'\n",
    "    this_alpha = 1\n",
    "    \n",
    "    if 'AX' in this_site:\n",
    "        this_color = 'red'\n",
    "    else:\n",
    "        this_color = 'blue'\n",
    "        \n",
    "    \n",
    "    if this_acept == 1:\n",
    "        this_alpha = 0.5\n",
    "    else:\n",
    "        this_alpha = 0.1\n",
    "    \n",
    "    pc = parts['bodies'][i]\n",
    "    pc.set_facecolor(this_color)\n",
    "    pc.set_edgecolor('black')\n",
    "    pc.set_alpha(this_alpha)\n",
    "    \n",
    "    if i < concat_frame.shape[1] and 'BD' in this_site and 'AX' in cooling_unit_group[i-1]:\n",
    "        ax.axvline(i+0.5, color = 'grey', alpha = 1, ls='-')\n",
    "        \n",
    "    if 'AX13' in this_site:\n",
    "        ax.axvline(i+0.5, color = 'grey', alpha = 1, ls='-')\n",
    "\n",
    "plt.axhline(np.mean(concat_frame.mean(axis=1)), color='orange', ls='--',)\n",
    "\n",
    "plt.text(0.2,170, 'cooling\\nunit 1', color = 'grey', alpha = 1, fontsize=14)\n",
    "plt.text(6,170, 'cooling\\nunit 2', color = 'grey', alpha = 1, fontsize=14)\n",
    "plt.text(8,170, 'cooling\\nunit 3', color = 'grey', alpha = 1, fontsize=14)\n",
    "plt.text(11,170, 'cooling\\nunit 4', color = 'grey', alpha = 1, fontsize=14)\n",
    "plt.text(14,170, 'other\\ndiabase\\nsites', color = 'grey', alpha = 1, fontsize=14)\n",
    "\n",
    "\n",
    "plt.ylim(0, 200)\n",
    "plt.xticks(ticks = range(len(cooling_unit_group)), labels = cooling_unit_group, fontsize=14)\n",
    "plt.yticks(fontsize=14)\n",
    "plt.ylabel('absolute paleointensity estimate ($\\mu$T)', fontsize=14)\n",
    "plt.xlabel('paleointensity sites', fontsize=14, labelpad=10)\n",
    "\n",
    "plt.savefig('code_output/PINT_BiCEP.pdf',bbox_inches='tight')\n",
    "plt.show()"
   ]
  },
  {
   "cell_type": "code",
   "execution_count": 7,
   "id": "7eeb3a3f-005f-4ed8-9eda-70307028375a",
   "metadata": {},
   "outputs": [
    {
     "data": {
      "text/plain": [
       "38.82"
      ]
     },
     "execution_count": 7,
     "metadata": {},
     "output_type": "execute_result"
    }
   ],
   "source": [
    "round(np.mean(concat_frame.mean(axis=1)),2)"
   ]
  },
  {
   "cell_type": "code",
   "execution_count": 8,
   "id": "3a54c64f-b2dd-46b9-887b-941f8a1d1fbd",
   "metadata": {},
   "outputs": [
    {
     "data": {
      "text/plain": [
       "4.6"
      ]
     },
     "execution_count": 8,
     "metadata": {},
     "output_type": "execute_result"
    }
   ],
   "source": [
    "round(np.std(concat_frame.mean(axis=1)),2)"
   ]
  },
  {
   "cell_type": "code",
   "execution_count": null,
   "id": "947c422e-a605-4943-a366-019b9b7a28b7",
   "metadata": {},
   "outputs": [],
   "source": []
  }
 ],
 "metadata": {
  "kernelspec": {
   "display_name": "Python 3",
   "language": "python",
   "name": "python3"
  },
  "language_info": {
   "codemirror_mode": {
    "name": "ipython",
    "version": 3
   },
   "file_extension": ".py",
   "mimetype": "text/x-python",
   "name": "python",
   "nbconvert_exporter": "python",
   "pygments_lexer": "ipython3",
   "version": "3.7.6"
  },
  "toc-autonumbering": false
 },
 "nbformat": 4,
 "nbformat_minor": 5
}
